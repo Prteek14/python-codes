{
 "cells": [
  {
   "cell_type": "code",
   "execution_count": 2,
   "id": "0d4806cf-faa4-4b50-b0cd-430e3649a535",
   "metadata": {},
   "outputs": [
    {
     "name": "stdout",
     "output_type": "stream",
     "text": [
      "1 : Check balance\n",
      "2 : Deposit money\n",
      "3 : Withdraw money\n",
      "4 : Exit\n"
     ]
    },
    {
     "name": "stdin",
     "output_type": "stream",
     "text": [
      "CHOOSE THE OPTION:  4\n"
     ]
    },
    {
     "name": "stdout",
     "output_type": "stream",
     "text": [
      "THANK YOU FOR USING OUR SERVICES.\n"
     ]
    }
   ],
   "source": [
    " '''1. Create a ATM system that allows a user to perform the following\n",
    "operation :-\n",
    "• Check balance\n",
    "• Deposit money\n",
    "• Withdraw money'''\n",
    "from IPython.display import clear_output\n",
    "\n",
    "def check_balance(acc_number, current_balance):\n",
    "    confirm_acc = int(input(\"RE-ENTER YOUR ACCOUNT NUMBER: \"))\n",
    "    clear_output(wait=True)\n",
    "    if confirm_acc == acc_number:\n",
    "        print(\"YOUR CURRENT BALANCE IS:\", current_balance)\n",
    "    else:\n",
    "        print(\"Incorrect account number!\")\n",
    "\n",
    "def deposit_money(acc_number, current_balance):\n",
    "    confirm_acc = int(input(\"RE-ENTER YOUR ACCOUNT NUMBER: \"))\n",
    "    clear_output(wait=True)\n",
    "    if confirm_acc == acc_number:\n",
    "        dep_money = int(input(\"ENTER AMOUNT TO DEPOSIT: \"))\n",
    "        current_balance += dep_money \n",
    "        print(\"YOUR MONEY IS SUCCESSFULLY ADDED. \\nTHANK YOU.\")\n",
    "        return current_balance\n",
    "    else:\n",
    "        print(\"Incorrect account number!\")\n",
    "    return current_balance\n",
    "\n",
    "def withdraw_money(acc_number, current_balance):\n",
    "    confirm_acc = int(input(\"RE-ENTER YOUR ACCOUNT NUMBER: \"))\n",
    "    clear_output(wait=True)\n",
    "    if confirm_acc == acc_number:\n",
    "        wd_money = int(input(\"ENTER AMOUNT TO WITHDRAW: \"))\n",
    "        if wd_money > current_balance:\n",
    "            print(\"Insufficient balance! \")\n",
    "        else:\n",
    "            current_balance -= wd_money \n",
    "            print(\"YOUR MONEY IS SUCCESSFULLY WITHDRAWN. \\nTHANK YOU.\")\n",
    "        return current_balance\n",
    "    else:\n",
    "        print(\"Incorrect account number!\")\n",
    "    return current_balance\n",
    "\n",
    "# Main program\n",
    "acc_number = int(input(\"ENTER THE ACCOUNT NUMBER: \"))\n",
    "initial_balance = 1000\n",
    "current_balance = initial_balance\n",
    "\n",
    "func_list = [\"Check balance\", \"Deposit money\", \"Withdraw money\", \"Exit\"]\n",
    "while True:\n",
    "    clear_output(wait=True)\n",
    "    for i, func in enumerate(func_list, 1):\n",
    "        print(f\"{i} : {func}\")\n",
    "    \n",
    "    option = int(input(\"CHOOSE THE OPTION: \"))\n",
    "    \n",
    "    match option:\n",
    "        case 1:\n",
    "            check_balance(acc_number, current_balance)\n",
    "        case 2:\n",
    "            current_balance = deposit_money(acc_number, current_balance)\n",
    "        case 3:\n",
    "            current_balance = withdraw_money(acc_number, current_balance)\n",
    "        case 4:\n",
    "            print(\"THANK YOU FOR USING OUR SERVICES.\")\n",
    "            break\n",
    "        case _:\n",
    "            print(\"Invalid option, please select a valid option.\")\n",
    "    \n",
    "    input(\"\\nPress Enter to return to the options menu...\")\n",
    "    clear_output(wait=False)\n"
   ]
  },
  {
   "cell_type": "code",
   "execution_count": 3,
   "id": "a9eea52a-f4d8-42a9-bc15-96377011fc0f",
   "metadata": {},
   "outputs": [
    {
     "name": "stdout",
     "output_type": "stream",
     "text": [
      "Welcome to the Number Guessing Game!\n",
      "Guess a number between 1 and 100:\n"
     ]
    },
    {
     "name": "stdin",
     "output_type": "stream",
     "text": [
      "Enter your guess:  60\n"
     ]
    },
    {
     "name": "stdout",
     "output_type": "stream",
     "text": [
      "Too low! Try again.\n"
     ]
    },
    {
     "name": "stdin",
     "output_type": "stream",
     "text": [
      "Enter your guess:  70\n"
     ]
    },
    {
     "name": "stdout",
     "output_type": "stream",
     "text": [
      "Too low! Try again.\n"
     ]
    },
    {
     "name": "stdin",
     "output_type": "stream",
     "text": [
      "Enter your guess:  80\n"
     ]
    },
    {
     "name": "stdout",
     "output_type": "stream",
     "text": [
      "Too high! Try again.\n"
     ]
    },
    {
     "name": "stdin",
     "output_type": "stream",
     "text": [
      "Enter your guess:  75\n"
     ]
    },
    {
     "name": "stdout",
     "output_type": "stream",
     "text": [
      "Too low! Try again.\n"
     ]
    },
    {
     "name": "stdin",
     "output_type": "stream",
     "text": [
      "Enter your guess:  77\n"
     ]
    },
    {
     "name": "stdout",
     "output_type": "stream",
     "text": [
      "Too low! Try again.\n"
     ]
    },
    {
     "name": "stdin",
     "output_type": "stream",
     "text": [
      "Enter your guess:  79\n"
     ]
    },
    {
     "name": "stdout",
     "output_type": "stream",
     "text": [
      "Congratulations! You've guessed the correct number.\n"
     ]
    }
   ],
   "source": [
    "# 2. Create a number guessing game where user will guess the number and system check whether the winning number is correct\n",
    "# or not (winning number will be hidden).\n",
    "import random\n",
    "\n",
    "def number_guessing_game():\n",
    "    winning_number = random.randint(1, 100)  # Generate a random number between 1 and 100\n",
    "    has_won = False\n",
    "    \n",
    "    print(\"Welcome to the Number Guessing Game!\")\n",
    "    print(\"Guess a number between 1 and 100:\")\n",
    "    \n",
    "    while not has_won:\n",
    "        try:\n",
    "            user_guess = int(input(\"Enter your guess: \"))\n",
    "            \n",
    "            if user_guess == winning_number:\n",
    "                print(\"Congratulations! You've guessed the correct number.\")\n",
    "                has_won = True\n",
    "            elif user_guess < winning_number:\n",
    "                print(\"Too low! Try again.\")\n",
    "            else:\n",
    "                print(\"Too high! Try again.\")\n",
    "                \n",
    "        except ValueError:\n",
    "            print(\"Invalid input. Please enter a valid number.\")\n",
    "            \n",
    "number_guessing_game()\n",
    "\n"
   ]
  },
  {
   "cell_type": "code",
   "execution_count": 4,
   "id": "141f3d77-468e-44d5-81ff-2fa4b27e860a",
   "metadata": {},
   "outputs": [
    {
     "name": "stdin",
     "output_type": "stream",
     "text": [
      "ENTER THE RANGE FOR FIBONACCI SERIES:  6\n"
     ]
    },
    {
     "name": "stdout",
     "output_type": "stream",
     "text": [
      "0 1 1 2 3 5 "
     ]
    }
   ],
   "source": [
    "# 3. fibonacci series\n",
    "\n",
    "def fib(n):\n",
    "    if n <= 1:\n",
    "        return n\n",
    "    else:\n",
    "        return fib(n-1) + fib(n-2)\n",
    "\n",
    "number=int(input(\"ENTER THE RANGE FOR FIBONACCI SERIES: \"))\n",
    "for i in range(number):  # this runs for nth times\n",
    "    print(fib(i),end=\" \")\n"
   ]
  },
  {
   "cell_type": "code",
   "execution_count": 5,
   "id": "593f879f-9e46-47e2-a89c-bbec4036e915",
   "metadata": {},
   "outputs": [
    {
     "name": "stdin",
     "output_type": "stream",
     "text": [
      "ENTER THE NUMBER TO GET FACTORIAL: 5\n"
     ]
    },
    {
     "name": "stdout",
     "output_type": "stream",
     "text": [
      "FACTORIAL of 5: 120\n"
     ]
    }
   ],
   "source": [
    "# 4. factorial printing\n",
    "\n",
    "def fact(number):\n",
    "    if number < 0:\n",
    "        return \"invalid input\"\n",
    "    elif number == 1:\n",
    "        return 1\n",
    "    else:\n",
    "        return number*fact(number - 1)\n",
    "\n",
    "number=int(input(\"ENTER THE NUMBER TO GET FACTORIAL:\"))\n",
    "print(f\"FACTORIAL of {number}: {fact(number)}\")"
   ]
  },
  {
   "cell_type": "code",
   "execution_count": 6,
   "id": "bbf18be8-901d-4dd3-b7f6-38565dda19fa",
   "metadata": {},
   "outputs": [
    {
     "name": "stdin",
     "output_type": "stream",
     "text": [
      "ENTER THE STRING : abba\n"
     ]
    },
    {
     "name": "stdout",
     "output_type": "stream",
     "text": [
      "the string is palindrome\n"
     ]
    }
   ],
   "source": [
    "#5. WAP to check whether the given string is palindrome or not.\n",
    "def palindrome(string):\n",
    "    str_p=\"\".join(reversed(string))\n",
    "    if string==str_p:\n",
    "        print(\"the string is palindrome\")\n",
    "    else:\n",
    "        print(\"the string is not palindrome\")\n",
    "\n",
    "string=str(input(\"ENTER THE STRING :\"))\n",
    "palindrome(string)"
   ]
  },
  {
   "cell_type": "code",
   "execution_count": 7,
   "id": "f0ece6d7-fdd6-40c3-9161-4581dde834b0",
   "metadata": {},
   "outputs": [
    {
     "name": "stdin",
     "output_type": "stream",
     "text": [
      "ENTER THE NUMBER TO CHECK WHETHER IS PRIME OR NOT: 64\n"
     ]
    },
    {
     "name": "stdout",
     "output_type": "stream",
     "text": [
      "Not prime\n"
     ]
    }
   ],
   "source": [
    "# 6. WAP to check whether the number is prime or not.\n",
    "number=int(input(\"ENTER THE NUMBER TO CHECK WHETHER IS PRIME OR NOT:\"))\n",
    "if number > 1:  # Only numbers greater than 1 can be prime\n",
    "    for i in range(2, number // 2 + 1):\n",
    "        if number % i == 0:\n",
    "            print(\"Not prime\")\n",
    "            break\n",
    "    else:\n",
    "        print(\"Prime\")\n",
    "else:\n",
    "    print(\"Not prime\")  # Numbers 1 and below are not prime\n"
   ]
  },
  {
   "cell_type": "code",
   "execution_count": 8,
   "id": "d8ccfeca-4112-433d-a01a-b170f03bd988",
   "metadata": {},
   "outputs": [
    {
     "name": "stdout",
     "output_type": "stream",
     "text": [
      "square  cube\n",
      " 4,  1\n",
      " 16,  27\n",
      " 36,  125\n",
      " 64,  343\n",
      " 100,  729\n",
      " 144,  1331\n",
      " 196,  2197\n",
      " 256,  3375\n",
      " 324,  4913\n",
      " 400,  6859\n",
      " 484,  9261\n",
      " 576,  12167\n",
      " 676,  15625\n",
      " 784,  19683\n",
      " 900,  24389\n",
      " 1024,  29791\n",
      " 1156,  35937\n",
      " 1296,  42875\n",
      " 1444,  50653\n",
      " 1600,  59319\n",
      " 1764,  68921\n",
      " 1936,  79507\n",
      " 2116,  91125\n",
      " 2304,  103823\n",
      " 2500,  117649\n",
      " 2704,  132651\n",
      " 2916,  148877\n",
      " 3136,  166375\n",
      " 3364,  185193\n",
      " 3600,  205379\n",
      " 3844,  226981\n",
      " 4096,  250047\n",
      " 4356,  274625\n",
      " 4624,  300763\n",
      " 4900,  328509\n",
      " 5184,  357911\n",
      " 5476,  389017\n",
      " 5776,  421875\n",
      " 6084,  456533\n",
      " 6400,  493039\n",
      " 6724,  531441\n",
      " 7056,  571787\n",
      " 7396,  614125\n",
      " 7744,  658503\n",
      " 8100,  704969\n",
      " 8464,  753571\n",
      " 8836,  804357\n",
      " 9216,  857375\n",
      " 9604,  912673\n",
      " 10000,  970299\n"
     ]
    }
   ],
   "source": [
    "# 7. WAP to print square of the even numbers and cube of the odd numbers in the range from 1 to 100.\n",
    "even_numbers= [number for number in range(1, 101) if number%2 == 0]\n",
    "odd_numbers=[number for number in range(1, 100) if number%2!=0]\n",
    "print(f\"square  cube\")\n",
    "for i, j in zip(even_numbers, odd_numbers):\n",
    "    print(f\" {i**2},  {j**3}\")"
   ]
  },
  {
   "cell_type": "code",
   "execution_count": 9,
   "id": "275e8343-1d7d-4791-8401-92e54997a8d5",
   "metadata": {},
   "outputs": [
    {
     "name": "stdin",
     "output_type": "stream",
     "text": [
      "Enter the number of elements in the list:  5\n",
      "Enter number 1:  1\n",
      "Enter number 2:  2\n",
      "Enter number 3:  3\n",
      "Enter number 4:  4\n",
      "Enter number 5:  5\n"
     ]
    },
    {
     "name": "stdout",
     "output_type": "stream",
     "text": [
      "The list is [1, 2, 3, 4, 5] and square of this is [1, 4, 9, 16, 25]\n"
     ]
    }
   ],
   "source": [
    "# 8. WAP to print the square of each numbers in a list using map function.\n",
    "# Get the size of the list\n",
    "list_size = int(input(\"Enter the number of elements in the list: \"))\n",
    "\n",
    "# Collect the numbers and create the list\n",
    "number_list = [int(input(f\"Enter number {i+1}: \")) for i in range(list_size)]\n",
    "square_list = list(map(lambda i: i**2, number_list))\n",
    "print(f\"The list is {number_list} and square of this is {square_list}\")\n"
   ]
  },
  {
   "cell_type": "code",
   "execution_count": 1,
   "id": "c69da582-f772-494b-832d-4f10665e8a4c",
   "metadata": {},
   "outputs": [
    {
     "name": "stdin",
     "output_type": "stream",
     "text": [
      "ENTER ODD NUMBER FOR SIZE : 7\n"
     ]
    },
    {
     "name": "stdout",
     "output_type": "stream",
     "text": [
      "     *\n",
      "    * *\n",
      "   * * *\n",
      "  * * * *\n",
      "   * * *\n",
      "    * *\n",
      "     *\n"
     ]
    }
   ],
   "source": [
    "# 9. WAP to print Diamond pattern.\n",
    "'''   *\n",
    "     * *\n",
    "    * * *\n",
    "     * *\n",
    "      *     '''\n",
    "Pattern_size=int(input(\"ENTER ODD NUMBER FOR SIZE :\"))\n",
    "for i in range(1,(Pattern_size//2)+2):   # (1, 9//2+2 = 6 means 1 to 5)\n",
    "    print(\" \" * (Pattern_size - i - 1), end=\"\") # this print the blank space before stars which is (9- (i=1) -1 = 7) , here i changes in loop \n",
    "    print(\" \".join(\"*\" * i))\n",
    "\n",
    "for j in range((Pattern_size // 2), 0, -1):\n",
    "    print(\" \" * (Pattern_size - j - 1), end=\"\")  # Spaces before stars\n",
    "    print(\" \".join(\"*\" * j))"
   ]
  },
  {
   "cell_type": "code",
   "execution_count": 11,
   "id": "3c988e42-000f-4127-9ce2-eda676776c0d",
   "metadata": {},
   "outputs": [
    {
     "name": "stdout",
     "output_type": "stream",
     "text": [
      "Prteek 153 Vaishnavi 571\n"
     ]
    }
   ],
   "source": [
    "# 10.Create a class of student with the attributes\n",
    "class student:\n",
    "    # Class Attribute\n",
    "    section=\"BCA A\"\n",
    "\n",
    "    def __init__(self,name,ID):\n",
    "        # Instance Attributes\n",
    "        self.name=name\n",
    "        self.ID=ID\n",
    "\n",
    "stu1=student(\"Prteek\",153)\n",
    "stu2=student(\"Vaishnavi\",571)\n",
    "stu3=student(\"Abhishek\",100)\n",
    "\n",
    "print(stu1.name, stu1.ID, stu2.name, stu2.ID)"
   ]
  },
  {
   "cell_type": "markdown",
   "id": "aa1241b2-49f4-4055-b322-e95a1e016f18",
   "metadata": {},
   "source": [
    "* import pandas as pd\n",
    "\n",
    "## Creating lists for even and odd numbers\n",
    "even_numbers = [number for number in range(1, 101) if number % 2 == 0]\n",
    "odd_numbers = [number for number in range(1, 100) if number % 2 != 0]\n",
    "\n",
    "## Creating a DataFrame and adding columns for odd and even numbers\n",
    "df = pd.DataFrame()\n",
    "df[0] = odd_numbers\n",
    "df[1] = even_numbers\n",
    "\n",
    "## Renaming the columns\n",
    "df = df.rename(columns={0: 'Odd Numbers', 1: 'Even Numbers'})\n",
    "\n",
    "## Displaying the DataFrame\n",
    "df\n"
   ]
  },
  {
   "cell_type": "code",
   "execution_count": 12,
   "id": "c5117831-5b2f-48dd-aa6f-ca0f99865561",
   "metadata": {},
   "outputs": [
    {
     "name": "stdout",
     "output_type": "stream",
     "text": [
      "['o', 'l', 'l', 'e', 'h']\n"
     ]
    }
   ],
   "source": [
    "# working of reversed function \n",
    "string = \"hello\"\n",
    "reversed_iterator = reversed(string)\n",
    "print(list(reversed_iterator))"
   ]
  },
  {
   "cell_type": "code",
   "execution_count": 6,
   "id": "29957b35-010c-40c5-aaf6-80543a3fb0da",
   "metadata": {},
   "outputs": [
    {
     "name": "stdin",
     "output_type": "stream",
     "text": [
      "enter the sentence : this is our day.\n"
     ]
    },
    {
     "name": "stdout",
     "output_type": "stream",
     "text": [
      "THIS IS OUR DAY.\n"
     ]
    }
   ],
   "source": [
    "# 11. Write a script that takes a sentence as input and prints the sentence in all uppercase\n",
    "# letters.\n",
    "string_s=str(input(\"enter the sentence :\"))\n",
    "\n",
    "print(string_s.upper())"
   ]
  },
  {
   "cell_type": "code",
   "execution_count": 13,
   "id": "ad8db8b5-9741-45c9-b2d5-7afb579bfb3e",
   "metadata": {},
   "outputs": [
    {
     "name": "stdin",
     "output_type": "stream",
     "text": [
      "enter the string 1:  this is our day.\n",
      "enter the string 2:  this is our day.\n"
     ]
    },
    {
     "name": "stdout",
     "output_type": "stream",
     "text": [
      "this is our day.this is our day.\n"
     ]
    }
   ],
   "source": [
    "# 12. Create a program that concatenates two strings and prints the result.\n",
    "str1=str(input(\"enter the string 1: \"))\n",
    "str2=str(input(\"enter the string 2: \"))\n",
    "result=str1 + str2\n",
    "print(result)"
   ]
  },
  {
   "cell_type": "code",
   "execution_count": 17,
   "id": "c3f9ceb8-4e7d-4b71-ab35-8e6c6fb8ea5b",
   "metadata": {},
   "outputs": [
    {
     "name": "stdout",
     "output_type": "stream",
     "text": [
      "Maximum number: 8\n",
      "Minimum number: 1\n"
     ]
    }
   ],
   "source": [
    "# 13. Write a program to create a list of integers, then print the maximum and minimum\n",
    "# values.\n",
    "list_num = [1, 2, 3, 4, 5, 6, 7, 8]\n",
    "\n",
    "max_num = max(list_num)  # Finds the maximum number\n",
    "min_num = min(list_num)  # Finds the minimum number\n",
    "\n",
    "print(\"Maximum number:\", max_num)\n",
    "print(\"Minimum number:\", min_num)\n",
    "\n"
   ]
  },
  {
   "cell_type": "code",
   "execution_count": 1,
   "id": "63d1eb47-8000-4820-99c6-019c23e1eb1a",
   "metadata": {},
   "outputs": [
    {
     "name": "stdout",
     "output_type": "stream",
     "text": [
      "[0, 1, 2, 3, 4, 5, 6, 7, 8, 9, 11, 12, 13, 14, 15, 16, 17, 18, 19, 20]\n"
     ]
    }
   ],
   "source": [
    "# 14. Write a script to join two lists and print the combined list.\n",
    "list1 = [i for i in range(10)]\n",
    "list2 = [i for i in range(11, 21)]\n",
    "result = list1 + list2  # Concatenate the two lists\n",
    "print(result)"
   ]
  },
  {
   "cell_type": "code",
   "execution_count": 2,
   "id": "fceacb94-307b-4889-8acb-ea4700422b34",
   "metadata": {},
   "outputs": [
    {
     "name": "stdout",
     "output_type": "stream",
     "text": [
      "Original List: [1, 2, 3, 4, 5]\n",
      "Replicated List: [1, 2, 3, 4, 5, 1, 2, 3, 4, 5, 1, 2, 3, 4, 5]\n"
     ]
    }
   ],
   "source": [
    "# 15.  Create a program to replicate a list three times and print the result.\n",
    "\n",
    "# Original list\n",
    "original_list = [1, 2, 3, 4, 5]\n",
    "\n",
    "# Replicate the list 3 times\n",
    "replicated_list = original_list * 3\n",
    "\n",
    "# Print the result\n",
    "print(\"Original List:\", original_list)\n",
    "print(\"Replicated List:\", replicated_list)\n"
   ]
  },
  {
   "cell_type": "code",
   "execution_count": 5,
   "id": "9ab91597-85ed-40ec-85e9-a59356789fe8",
   "metadata": {},
   "outputs": [
    {
     "name": "stdout",
     "output_type": "stream",
     "text": [
      "2\n",
      "4\n",
      "6\n",
      "8\n"
     ]
    }
   ],
   "source": [
    "# 16. Write a program that takes a list of numbers as input and prints only the even numbers.\n",
    "\n",
    "list1=[i for i in range(1,10) ]\n",
    "for i in list1:\n",
    "    if i%2==0:\n",
    "        print(i)"
   ]
  },
  {
   "cell_type": "code",
   "execution_count": 6,
   "id": "99af87d9-a6a0-4c5d-a6d4-1b4fa2850174",
   "metadata": {},
   "outputs": [
    {
     "name": "stdout",
     "output_type": "stream",
     "text": [
      "The second element is: banana\n"
     ]
    }
   ],
   "source": [
    "# 17. Write a program that creates a tuple of 5 strings and accesses the second element.\n",
    "# Create a tuple of 5 strings\n",
    "my_tuple = (\"apple\", \"banana\", \"cherry\", \"date\", \"elderberry\")\n",
    "\n",
    "# Access the second element (index 1)\n",
    "second_element = my_tuple[1]\n",
    "\n",
    "# Print the second element\n",
    "print(\"The second element is:\", second_element)\n"
   ]
  },
  {
   "cell_type": "code",
   "execution_count": 9,
   "id": "5c8cdec0-de90-4015-84c9-e3e56dfc06c2",
   "metadata": {},
   "outputs": [
    {
     "name": "stdout",
     "output_type": "stream",
     "text": [
      "(0, 1, 2, 3, 4, 5, 6, 7, 8, 9, 11, 12, 13, 14, 15, 16, 17, 18, 19)\n"
     ]
    }
   ],
   "source": [
    "# 18. Create a program that joins two tuples and prints the result.\n",
    "tup1 = tuple(i for i in range(10))  # Convert generator to tuple\n",
    "tup2 = tuple(i for i in range(11, 20))  # Convert generator to tuple\n",
    "\n",
    "# Concatenate the tuples\n",
    "result = tup1 + tup2\n",
    "\n",
    "print(result)\n"
   ]
  },
  {
   "cell_type": "code",
   "execution_count": 10,
   "id": "dd57610a-0c5b-4729-91cc-240fb4eeabe5",
   "metadata": {},
   "outputs": [
    {
     "name": "stdout",
     "output_type": "stream",
     "text": [
      "(0, 1, 2, 3, 4, 5, 6, 7, 8, 9, 0, 1, 2, 3, 4, 5, 6, 7, 8, 9)\n"
     ]
    }
   ],
   "source": [
    "# 19. Write a script that replicates a tuple twice and prints the result.\n",
    "tup1= tuple(i for i in range(10))\n",
    "result = tup1 * 2\n",
    "print(result)"
   ]
  },
  {
   "cell_type": "code",
   "execution_count": 17,
   "id": "a0f68bdf-0cb5-4353-bc05-7b4ee6a72006",
   "metadata": {},
   "outputs": [
    {
     "name": "stdout",
     "output_type": "stream",
     "text": [
      "1:first\n",
      "2:second\n",
      "3:third\n"
     ]
    }
   ],
   "source": [
    "# 20. Write a program that creates a dictionary with three key-value pairs and prints all the keys.\n",
    "dict1={1: \"first\",\n",
    "      2: \"second\",\n",
    "      3: \"third\"}\n",
    "for key,value in dict1.items():\n",
    "    print(f\"{key}:{value}\")"
   ]
  },
  {
   "cell_type": "code",
   "execution_count": 18,
   "id": "274d6cc7-1eee-47ec-a9f4-5d9e40f834ce",
   "metadata": {},
   "outputs": [
    {
     "name": "stdout",
     "output_type": "stream",
     "text": [
      "{0, 1, 2, 3, 4, 5, 6, 7, 8, 9}\n"
     ]
    }
   ],
   "source": [
    "# 21. Create a Python program that creates a set of numbers and prints it.\n",
    "set1=set(i for i in range(10))\n",
    "print(set1)"
   ]
  },
  {
   "cell_type": "code",
   "execution_count": 19,
   "id": "640129a1-2c2d-496e-ba97-c2651a773d8d",
   "metadata": {},
   "outputs": [
    {
     "name": "stdout",
     "output_type": "stream",
     "text": [
      "frozenset({0, 1, 2, 3, 4, 5, 6, 7, 8, 9})\n"
     ]
    }
   ],
   "source": [
    "# 22. Write a program to convert a list into a frozenset and print it.\n",
    "list1=[i for i in range(10)] \n",
    "f_set=frozenset(list1)\n",
    "print(f_set)"
   ]
  },
  {
   "cell_type": "code",
   "execution_count": 21,
   "id": "65b19844-ebf5-4f00-836f-67179fd1bb5d",
   "metadata": {},
   "outputs": [
    {
     "data": {
      "text/html": [
       "<div>\n",
       "<style scoped>\n",
       "    .dataframe tbody tr th:only-of-type {\n",
       "        vertical-align: middle;\n",
       "    }\n",
       "\n",
       "    .dataframe tbody tr th {\n",
       "        vertical-align: top;\n",
       "    }\n",
       "\n",
       "    .dataframe thead th {\n",
       "        text-align: right;\n",
       "    }\n",
       "</style>\n",
       "<table border=\"1\" class=\"dataframe\">\n",
       "  <thead>\n",
       "    <tr style=\"text-align: right;\">\n",
       "      <th></th>\n",
       "      <th>name</th>\n",
       "      <th>age</th>\n",
       "      <th>score</th>\n",
       "    </tr>\n",
       "  </thead>\n",
       "  <tbody>\n",
       "    <tr>\n",
       "      <th>0</th>\n",
       "      <td>a</td>\n",
       "      <td>19</td>\n",
       "      <td>250</td>\n",
       "    </tr>\n",
       "    <tr>\n",
       "      <th>1</th>\n",
       "      <td>b</td>\n",
       "      <td>24</td>\n",
       "      <td>234</td>\n",
       "    </tr>\n",
       "    <tr>\n",
       "      <th>2</th>\n",
       "      <td>c</td>\n",
       "      <td>43</td>\n",
       "      <td>231</td>\n",
       "    </tr>\n",
       "    <tr>\n",
       "      <th>3</th>\n",
       "      <td>d</td>\n",
       "      <td>24</td>\n",
       "      <td>213</td>\n",
       "    </tr>\n",
       "    <tr>\n",
       "      <th>4</th>\n",
       "      <td>e</td>\n",
       "      <td>45</td>\n",
       "      <td>321</td>\n",
       "    </tr>\n",
       "  </tbody>\n",
       "</table>\n",
       "</div>"
      ],
      "text/plain": [
       "  name  age  score\n",
       "0    a   19    250\n",
       "1    b   24    234\n",
       "2    c   43    231\n",
       "3    d   24    213\n",
       "4    e   45    321"
      ]
     },
     "execution_count": 21,
     "metadata": {},
     "output_type": "execute_result"
    }
   ],
   "source": [
    "# 23. . Create a Pandas DataFrame with columns \"Name\", \"Age\", and \"Score\" using sample data. Display the first 5 rows.\n",
    "import pandas as pd\n",
    "dict1={\"name\": [\"a\",\"b\",\"c\",\"d\",\"e\"],\n",
    "        \"age\": [19,24,43,24,45],\n",
    "         \"score\": [250,234,231,213,321]}\n",
    "df=pd.DataFrame(dict1)\n",
    "df.head(5)"
   ]
  },
  {
   "cell_type": "code",
   "execution_count": 25,
   "id": "faf68013-6398-47b0-8137-68ae08a0434e",
   "metadata": {},
   "outputs": [
    {
     "name": "stdin",
     "output_type": "stream",
     "text": [
      "enter the number: -98\n"
     ]
    },
    {
     "name": "stdout",
     "output_type": "stream",
     "text": [
      "-98 is negative.\n"
     ]
    }
   ],
   "source": [
    "# 24. Create a program that reads an integer from the user and prints whether it's positive,negative, or zero.\n",
    "number=int(input(\"enter the number:\"))\n",
    "if number >0:\n",
    "    print(number,\"is positive.\")\n",
    "elif number < 0:\n",
    "    print(number, \"is negative.\")\n",
    "else:\n",
    "    print(number ,\"is zero.\")"
   ]
  },
  {
   "cell_type": "code",
   "execution_count": 32,
   "id": "01003796-26e8-45a0-bd6c-1d17ead12f62",
   "metadata": {},
   "outputs": [
    {
     "name": "stdout",
     "output_type": "stream",
     "text": [
      "Original tuple: (1, 2, 3, 4, 5)\n",
      "Error: 'tuple' object does not support item assignment\n",
      "Tuple after attempted modification: (1, 2, 3, 4, 5)\n"
     ]
    }
   ],
   "source": [
    "# 25. Write a program that demonstrates the immutability of tuples \n",
    "# Create a tuple\n",
    "my_tuple = (1, 2, 3, 4, 5)\n",
    "\n",
    "print(\"Original tuple:\", my_tuple)\n",
    "\n",
    "# Attempt to modify an element\n",
    "try:\n",
    "    my_tuple[1] = 10  # This will raise an error\n",
    "except TypeError as e:\n",
    "    print(\"Error:\", e)\n",
    "\n",
    "# Demonstrate that the tuple remains unchanged\n",
    "print(\"Tuple after attempted modification:\", my_tuple)\n"
   ]
  },
  {
   "cell_type": "code",
   "execution_count": 26,
   "id": "f64ce7dc-7fb7-42c2-aa1d-611d583dd1ac",
   "metadata": {},
   "outputs": [
    {
     "name": "stdin",
     "output_type": "stream",
     "text": [
      "enter the number: 34\n",
      "enter the number: 32\n"
     ]
    },
    {
     "name": "stdout",
     "output_type": "stream",
     "text": [
      "66\n"
     ]
    }
   ],
   "source": [
    "# 26. Write a script that takes two numbers as input and prints their sum.\n",
    "a=int(input(\"enter the number:\"))\n",
    "b=int(input(\"enter the number:\"))\n",
    "sum1=a+b\n",
    "print(sum1)"
   ]
  },
  {
   "cell_type": "code",
   "execution_count": 28,
   "id": "81de1c13-fc79-4449-bc37-45cc690581ca",
   "metadata": {},
   "outputs": [
    {
     "name": "stdin",
     "output_type": "stream",
     "text": [
      "enter name: prteek\n"
     ]
    },
    {
     "name": "stdout",
     "output_type": "stream",
     "text": [
      "good morning,  PRTEEK\n"
     ]
    }
   ],
   "source": [
    "# 27. Write a program that takes user input for their name and prints a greeting.\n",
    "name=str(input(\"enter name:\"))\n",
    "print(\"good morning, \", name.upper())\n"
   ]
  },
  {
   "cell_type": "code",
   "execution_count": 29,
   "id": "137f687d-1bb2-4cf7-a323-e28823e10e0c",
   "metadata": {},
   "outputs": [
    {
     "name": "stdin",
     "output_type": "stream",
     "text": [
      "Enter a number:  345\n"
     ]
    },
    {
     "name": "stdout",
     "output_type": "stream",
     "text": [
      "The number you entered is: 345\n"
     ]
    }
   ],
   "source": [
    "# 28. Write a program that takes a number as input, converts it to a string, and displays it with a message.\n",
    "\n",
    "# Take a number as input\n",
    "number = int(input(\"Enter a number: \"))\n",
    "\n",
    "# Convert the number to a string\n",
    "number_str = str(number)\n",
    "\n",
    "# Display it with a message\n",
    "print(f\"The number you entered is: {number_str}\")\n"
   ]
  },
  {
   "cell_type": "code",
   "execution_count": 30,
   "id": "6660e6fa-9065-465e-8c48-66edd6a8d5fc",
   "metadata": {},
   "outputs": [
    {
     "name": "stdin",
     "output_type": "stream",
     "text": [
      "Enter a word:  sum\n"
     ]
    },
    {
     "name": "stdout",
     "output_type": "stream",
     "text": [
      "'sum' is NOT a Python keyword.\n"
     ]
    }
   ],
   "source": [
    "# 29. Write a program that checks if a given word is a Python keyword.\n",
    "\n",
    "import keyword\n",
    "\n",
    "# Take a word as input\n",
    "word = input(\"Enter a word: \")\n",
    "\n",
    "# Check if the word is a Python keyword\n",
    "if keyword.iskeyword(word):\n",
    "    print(f\"'{word}' is a Python keyword.\")\n",
    "else:\n",
    "    print(f\"'{word}' is NOT a Python keyword.\")\n"
   ]
  },
  {
   "cell_type": "code",
   "execution_count": 31,
   "id": "f26646ba-2084-477e-b75a-f07e8692c3b7",
   "metadata": {},
   "outputs": [
    {
     "name": "stdout",
     "output_type": "stream",
     "text": [
      "In 5 years, Alice will be 25 years old and 5.9 meters tall.\n"
     ]
    }
   ],
   "source": [
    "# 30. Create a Python script that uses at least three different types of literals (e.g., string,integer, float).\n",
    "\n",
    "# Integer literal\n",
    "age = 25\n",
    "\n",
    "# Float literal\n",
    "height = 5.9\n",
    "\n",
    "# String literal\n",
    "name = \"Alice\"\n",
    "\n",
    "\n",
    "print(f\"In 5 years, {name} will be {age} years old and {height} meters tall.\")\n"
   ]
  }
 ],
 "metadata": {
  "kernelspec": {
   "display_name": "Python 3 (ipykernel)",
   "language": "python",
   "name": "python3"
  },
  "language_info": {
   "codemirror_mode": {
    "name": "ipython",
    "version": 3
   },
   "file_extension": ".py",
   "mimetype": "text/x-python",
   "name": "python",
   "nbconvert_exporter": "python",
   "pygments_lexer": "ipython3",
   "version": "3.12.4"
  }
 },
 "nbformat": 4,
 "nbformat_minor": 5
}
