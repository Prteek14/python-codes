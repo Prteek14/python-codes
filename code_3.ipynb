{
 "cells": [
  {
   "cell_type": "markdown",
   "id": "b94e171f-c9c8-47e0-8d1f-99d7081fef03",
   "metadata": {},
   "source": [
    " >  # 43 questions\n",
    "---\n",
    "1. Check for Palindrome\n",
    "2. Find the Largest Among Three Numbers\n",
    "3. Print Multiplication Table\n",
    "4. Simple String Operations\n",
    "5. Bubble Sort Algorithm\n",
    "6. Check Leap Year\n",
    "7. Count Vowels in a String\n",
    "8. Find the LCM of Two Numbers\n",
    "9. Check Anagram(means contains same alphabates to form new word)\n",
    "10. Generate a Random Number \n",
    "12. Binary Search Algorithm\n",
    "13. Check Armstrong Number\n",
    "14. Linear Search Algorithm\n",
    "15. Merge Two Sorted Lists\n",
    "16. Print the Fibonacci Series\n",
    "17. Generate a Simple Pyramid Pattern\n",
    "18. Generate a List of Prime Numbers within a Range\n",
    "19. Find the GCD of Two Numbers\n",
    "20. Check if a Number is a Perfect Square\n",
    "21. Implement a Stack Data Structure\n",
    "22. Find the ASCII Value of a Character\n",
    "23. Generate a Simple Diamond Pattern\n",
    "24. Check if a Number is a Perfect Cube\n",
    "25. Implement a Queue Data Structure\n",
    "26. Print the Factors of a Number\n",
    "27. Check if a String is a Pangram\n",
    "28. Sort a List of Strings\n",
    "29. Generate a Simple Pascal's Triangle\n",
    "30. Implement a Binary Search Tree\n",
    "31. Count the Number of Digits in an Integer\n",
    "32. Generate a Random Password\n",
    "33. Implement a Queue using a List\n",
    "34. Print the Calendar of a Given Month and Year\n",
    "35. Find the Median of Three Values\n",
    "36. Find the Sum of Digits in a Number\n",
    "37. Convert Decimal to Binary, Octal, and Hexadecimal\n",
    "38. Implement Selection Sort\n",
    "39. Implement Insertion Sort\n",
    "40. Implement a Bubble Sort Algorithm\n",
    "41. Implement Quick Sort\n",
    "42. Implement a Merge Sort Algorithm\n",
    "43. Check if a String is a Valid Email Address\n",
    "44. Generate a Random List of Numbers"
   ]
  },
  {
   "cell_type": "code",
   "execution_count": 18,
   "id": "7816619e-5e66-4834-a56a-09ad93d30efa",
   "metadata": {},
   "outputs": [
    {
     "name": "stdin",
     "output_type": "stream",
     "text": [
      "ENTER THE NUMBER:  3\n"
     ]
    },
    {
     "name": "stdout",
     "output_type": "stream",
     "text": [
      "It is a prime number. 3\n"
     ]
    }
   ],
   "source": [
    "# 1. check prime number\n",
    "number = int(input('ENTER THE NUMBER: '))\n",
    "if number <= 1:\n",
    "    print('It is not a prime number.')\n",
    "elif number == 2:\n",
    "    print('It is a prime number.', number)\n",
    "else:\n",
    "    for i in range(2, number // 2 + 1):\n",
    "        if number % i == 0:\n",
    "            print('It is not a prime number.', number)\n",
    "            break\n",
    "    else:\n",
    "        print('It is a prime number.', number)\n"
   ]
  },
  {
   "cell_type": "code",
   "execution_count": 30,
   "id": "059bcf06-f387-4a28-b799-091fb0973a2a",
   "metadata": {},
   "outputs": [
    {
     "name": "stdin",
     "output_type": "stream",
     "text": [
      "enter the number 1: 1\n",
      "enter the number 2: 2\n",
      "enter the number 3: 3\n"
     ]
    },
    {
     "name": "stdout",
     "output_type": "stream",
     "text": [
      "greates nuber is 3\n"
     ]
    }
   ],
   "source": [
    "# 2.Find the Largest Among Three Numbers\n",
    "number_1=int(input(\"enter the number 1:\"))\n",
    "number_2=int(input('enter the number 2:'))\n",
    "number_3=int(input(\"enter the number 3:\"))\n",
    "if number_1>number_2:\n",
    "    if number_1>number_3:\n",
    "        print(f\"gratest number is {number_1}\")\n",
    "    else:\n",
    "        print(f\"greates nuber is {number_3}\")\n",
    "elif number_2>number_1:\n",
    "    if number_2>number_3:\n",
    "        print(f\"gratest number is {number_2}\")\n",
    "    else:\n",
    "        print(f\"greates nuber is {number_3}\")\n",
    "elif number_3>number_1:\n",
    "    if number_3>number_2:\n",
    "        print(f\"gratest number is {number_3}\")\n",
    "    else:\n",
    "        print(f\"greates nuber is {number_2}\")\n",
    "else:\n",
    "    print(f'invalid number')"
   ]
  },
  {
   "cell_type": "code",
   "execution_count": 35,
   "id": "292596b8-b581-4152-b035-f77250ad5d26",
   "metadata": {},
   "outputs": [
    {
     "name": "stdin",
     "output_type": "stream",
     "text": [
      "enter the number: 5\n"
     ]
    },
    {
     "name": "stdout",
     "output_type": "stream",
     "text": [
      "5 * 1 = 5\n",
      "5 * 2 = 10\n",
      "5 * 3 = 15\n",
      "5 * 4 = 20\n",
      "5 * 5 = 25\n",
      "5 * 6 = 30\n",
      "5 * 7 = 35\n",
      "5 * 8 = 40\n",
      "5 * 9 = 45\n",
      "5 * 10 = 50\n"
     ]
    }
   ],
   "source": [
    "# 3.Print Multiplication Table\n",
    "number=int(input('enter the number:'))\n",
    "for i in range(1,11):\n",
    "    print(f'{number} * {i} = {number*i}')"
   ]
  },
  {
   "cell_type": "code",
   "execution_count": 36,
   "id": "b125aa7f-fed4-48eb-a8f4-5d08ca8fb903",
   "metadata": {},
   "outputs": [
    {
     "name": "stdin",
     "output_type": "stream",
     "text": [
      "enter the string world\n"
     ]
    },
    {
     "name": "stdout",
     "output_type": "stream",
     "text": [
      "world\n",
      "['world']\n",
      "world\n",
      "True\n",
      "dlrow\n"
     ]
    }
   ],
   "source": [
    "# 4.Simple String Operations\n",
    "string = input(\"enter the string\")\n",
    "s_1=string.split()\n",
    "s_2=\" \".join(s_1)\n",
    "s_3=string.isalnum()\n",
    "s_4=string[::-1]\n",
    "print(string)\n",
    "print(s_1,s_2,s_3,s_4,sep=\"\\n\")"
   ]
  },
  {
   "cell_type": "code",
   "execution_count": 39,
   "id": "7c4ec8b1-b9e6-4c78-973e-64c5964d8db3",
   "metadata": {},
   "outputs": [
    {
     "name": "stdin",
     "output_type": "stream",
     "text": [
      "enter the string hello world python\n"
     ]
    },
    {
     "name": "stdout",
     "output_type": "stream",
     "text": [
      "hello world python\n",
      "['hello', 'world', 'python']\n",
      "hello world python\n",
      "False\n",
      "nohtyp dlrow olleh\n"
     ]
    }
   ],
   "source": [
    "# 4.Simple String Operations\n",
    "string = input(\"enter the string\")\n",
    "s_1=string.split()\n",
    "s_2=\" \".join(s_1)\n",
    "s_3=string.isalnum()\n",
    "s_4=string[::-1]\n",
    "print(string)\n",
    "print(s_1,s_2,s_3,s_4,sep=\"\\n\")"
   ]
  },
  {
   "cell_type": "code",
   "execution_count": 23,
   "id": "c36b90a9-cde8-4f31-a6d8-58d68c5e945f",
   "metadata": {},
   "outputs": [
    {
     "name": "stdout",
     "output_type": "stream",
     "text": [
      "Original array: [64, 34, 25, 12, 22, 11, 90]\n",
      "Sorted array: [11, 12, 22, 25, 34, 64, 90]\n"
     ]
    }
   ],
   "source": [
    "# 5.Bubble Sort Algorithm\n",
    "def bubble_sort(arr):\n",
    "    n = len(arr)\n",
    "    for i in range(n):\n",
    "        # Track whether any swap is made in this pass\n",
    "        swapped = False\n",
    "        for j in range(0, n - i - 1):\n",
    "            # Swap if the current element is greater than the next element\n",
    "            if arr[j] > arr[j + 1]:\n",
    "                arr[j], arr[j + 1] = arr[j + 1], arr[j]\n",
    "                swapped = True\n",
    "        # If no swaps were made, the array is already sorted\n",
    "        if not swapped:\n",
    "            break\n",
    "\n",
    "# Input and Output Example\n",
    "arr = [64, 34, 25, 12, 22, 11, 90]\n",
    "print(\"Original array:\", arr)\n",
    "\n",
    "bubble_sort(arr)\n",
    "print(\"Sorted array:\", arr)\n",
    "\n"
   ]
  },
  {
   "cell_type": "code",
   "execution_count": 3,
   "id": "0cd70932-0953-47f3-8d7c-3b9002afbc3b",
   "metadata": {},
   "outputs": [
    {
     "name": "stdin",
     "output_type": "stream",
     "text": [
      "enter the year : 2024\n"
     ]
    },
    {
     "name": "stdout",
     "output_type": "stream",
     "text": [
      "leap year 2024\n",
      "True\n"
     ]
    }
   ],
   "source": [
    "# 6.Check Leap Year\n",
    "import calendar\n",
    "year=int(input('enter the year :'))\n",
    "if (year % 4 == 0 and year % 100 != 0) or (year % 400 == 0):\n",
    "    print('leap year',year)\n",
    "else:\n",
    "     print(\"not a leap year\",year)\n",
    "leap=calendar.isleap(year)\n",
    "print(leap)"
   ]
  },
  {
   "cell_type": "code",
   "execution_count": 8,
   "id": "6d777a4a-18a6-48ea-9448-d6a7fb6df869",
   "metadata": {},
   "outputs": [
    {
     "name": "stdin",
     "output_type": "stream",
     "text": [
      "enter the string: hello world\n"
     ]
    },
    {
     "name": "stdout",
     "output_type": "stream",
     "text": [
      "3\n"
     ]
    }
   ],
   "source": [
    "# 7.Count Vowels in a String\n",
    "string = input('enter the string:')\n",
    "vowels=['a','e','i','o','u','A','E','I','O','U']\n",
    "count=0\n",
    "for i in string:\n",
    "    if i in vowels:\n",
    "        count+=1\n",
    "print(count)"
   ]
  },
  {
   "cell_type": "code",
   "execution_count": 17,
   "id": "e205c811-c8ad-4a2e-b5ba-e3d1f52d7292",
   "metadata": {},
   "outputs": [
    {
     "name": "stdin",
     "output_type": "stream",
     "text": [
      "enter the number: 3\n",
      "enter the number: 5\n"
     ]
    },
    {
     "name": "stdout",
     "output_type": "stream",
     "text": [
      "LCM= 15\n"
     ]
    }
   ],
   "source": [
    "# 8.Find the LCM of Two Numbers\n",
    "# note:\n",
    "# The LCM must be the smallest number that satisfies both conditions:\n",
    "# It is a multiple of the greater number.\n",
    "# It is divisible by the smaller number.\n",
    "\n",
    "number_1=int(input(\"enter the number:\"))\n",
    "number_2=int(input('enter the number:'))\n",
    "greater = max(number_1, number_2)\n",
    "smallest = min(number_1, number_2)\n",
    "for i in range(greater, number_1*number_2+1, greater):\n",
    "        if i % smallest == 0:\n",
    "            print('LCM=',i)\n",
    "            break"
   ]
  },
  {
   "cell_type": "code",
   "execution_count": 24,
   "id": "70c51594-8ae6-4a60-a5d2-65cc44223c5c",
   "metadata": {},
   "outputs": [
    {
     "name": "stdin",
     "output_type": "stream",
     "text": [
      "Enter the first string:  baba\n",
      "Enter the second string:  abbba\n"
     ]
    },
    {
     "name": "stdout",
     "output_type": "stream",
     "text": [
      "The strings are not anagrams: baba, abbba\n"
     ]
    }
   ],
   "source": [
    "# 9.Check Anagram(means contains same alphabates to form new word)\n",
    "\n",
    "string_1 = input('Enter the first string: ').replace(\" \", \"\").lower()\n",
    "string_2 = input('Enter the second string: ').replace(\" \", \"\").lower()\n",
    "\n",
    "if sorted(string_1) == sorted(string_2):\n",
    "    print(f'The strings are anagrams: {string_1}, {string_2}')\n",
    "else:\n",
    "    print(f'The strings are not anagrams: {string_1}, {string_2}')\n"
   ]
  },
  {
   "cell_type": "code",
   "execution_count": 98,
   "id": "de56d5f9-b118-4055-aef4-45213394dde4",
   "metadata": {},
   "outputs": [
    {
     "name": "stdout",
     "output_type": "stream",
     "text": [
      "72\n",
      "[55, 21, 32, 52, 50, 68, 7, 8, 54, 6]\n"
     ]
    }
   ],
   "source": [
    "# 10.Generate a Random Number\n",
    "# note---\n",
    "# n Python, _ (underscore) is often used as a throwaway variable in loops or\n",
    "# situations where the variable's value is not needed. It's a common convention to indicate that the value is irrelevant.\n",
    "import random\n",
    "a=random.randint(1,100)\n",
    "print(a)\n",
    "a_list=[random.randint(1,100) for _ in range(10)]\n",
    "print(a_list)"
   ]
  },
  {
   "cell_type": "code",
   "execution_count": 104,
   "id": "ef63a4e6-6ee5-4d08-bd3e-5672247c2e42",
   "metadata": {},
   "outputs": [
    {
     "name": "stdin",
     "output_type": "stream",
     "text": [
      "Enter a number between 1 to 100:  6\n"
     ]
    },
    {
     "name": "stdout",
     "output_type": "stream",
     "text": [
      "Sorted List: [17, 40, 41, 45, 50, 52, 52, 54, 60, 77]\n",
      "Number 6 is not in the list.\n"
     ]
    }
   ],
   "source": [
    "# 11. Binary Search Algorithm\n",
    "import random\n",
    "\n",
    "# Input from the user\n",
    "search = int(input(\"Enter a number between 1 to 100: \"))\n",
    "\n",
    "# Generate and sort the random list\n",
    "numbers = [random.randint(1, 100) for _ in range(10)]\n",
    "numbers.sort()\n",
    "print(f\"Sorted List: {numbers}\")\n",
    "\n",
    "# Binary Search Algorithm\n",
    "low = 0\n",
    "high = len(numbers) - 1\n",
    "found = False\n",
    "\n",
    "while low <= high:\n",
    "    mid = (low + high) // 2  # Calculate the middle index\n",
    "    if numbers[mid] == search:\n",
    "        print(f\"Number {search} found at index {mid}.\")\n",
    "        found = True\n",
    "        break\n",
    "    elif numbers[mid] < search:\n",
    "        low = mid + 1  # Search the right half\n",
    "    else:\n",
    "        high = mid - 1  # Search the left half\n",
    "\n",
    "if not found:\n",
    "    print(f\"Number {search} is not in the list.\")    "
   ]
  },
  {
   "cell_type": "code",
   "execution_count": 117,
   "id": "303d3980-f1f9-4f6f-a0e1-f91eee834325",
   "metadata": {},
   "outputs": [
    {
     "name": "stdin",
     "output_type": "stream",
     "text": [
      "enter the number: 1634\n"
     ]
    },
    {
     "name": "stdout",
     "output_type": "stream",
     "text": [
      "1634\n",
      "the number is armstrong. 1634\n"
     ]
    }
   ],
   "source": [
    "# 12. Check Armstrong Number 153\n",
    "number=int(input('enter the number:'))\n",
    "add=0\n",
    "for i in str(number):\n",
    "    add+=int(i)**len(str(number))\n",
    "print(add)\n",
    "if add==number:\n",
    "    print('the number is armstrong.', number)\n",
    "else:\n",
    "    print('the number is not armstong.',number)"
   ]
  },
  {
   "cell_type": "code",
   "execution_count": 30,
   "id": "2ce6fda4-caa9-475b-8240-ade681af1338",
   "metadata": {},
   "outputs": [
    {
     "name": "stdin",
     "output_type": "stream",
     "text": [
      "enter the number to search: 77\n"
     ]
    },
    {
     "name": "stdout",
     "output_type": "stream",
     "text": [
      "[10, 73, 23, 58, 97, 67, 20, 31, 6, 63]\n",
      "The number 77 is not found in the list.\n"
     ]
    }
   ],
   "source": [
    "# 13. Linear Search Algorithm\n",
    "import random\n",
    "search=int(input('enter the number to search:'))\n",
    "# numbers=[random.randint(1,100) for _ in range(10)]\n",
    "numbers=[10, 73, 23, 58, 97, 67, 20, 31, 6, 63]\n",
    "print(numbers)\n",
    "# Search for the number\n",
    "found = False  # Flag to check if the number is found\n",
    "for index, number in enumerate(numbers):  # Use enumerate to get index and value\n",
    "    if number == search:\n",
    "        print(f\"The searched number {search} is found at index {index}.\")\n",
    "        found = True\n",
    "        break\n",
    "\n",
    "if not found:\n",
    "    print(f\"The number {search} is not found in the list.\")\n"
   ]
  },
  {
   "cell_type": "code",
   "execution_count": 2,
   "id": "8386e931-62f2-46df-88c9-df8e8c89d1f2",
   "metadata": {},
   "outputs": [
    {
     "name": "stdout",
     "output_type": "stream",
     "text": [
      "['a', 'b', 'c', 1, 2, 2, 2, 3, 3, 34]\n"
     ]
    }
   ],
   "source": [
    "# 14. Merge Two Sorted Lists\n",
    "list_1=['a','b','c']\n",
    "list_2=[1,3,2,2,2,3,34]\n",
    "list_1.sort()\n",
    "list_2.sort()\n",
    "list_merge=list_1 + list_2\n",
    "print(list_merge)"
   ]
  },
  {
   "cell_type": "code",
   "execution_count": 9,
   "id": "04f6a363-d20c-4246-86c2-fe1224e312ab",
   "metadata": {},
   "outputs": [
    {
     "name": "stdin",
     "output_type": "stream",
     "text": [
      "enter the range: 7\n"
     ]
    },
    {
     "name": "stdout",
     "output_type": "stream",
     "text": [
      "0 1 1 2 3 5 8 "
     ]
    }
   ],
   "source": [
    "# 15. Print the Fibonacci Series\n",
    "def fib(i):\n",
    "    if i<=1:\n",
    "        return i\n",
    "    else:\n",
    "        return fib(i-1) + fib(i-2)\n",
    "number=int(input('enter the range:'))\n",
    "for i in range(number):\n",
    "    print(fib(i),end=\" \")"
   ]
  },
  {
   "cell_type": "code",
   "execution_count": 8,
   "id": "392d5956-20ce-45d1-b53c-f07219aa28bf",
   "metadata": {},
   "outputs": [
    {
     "name": "stdin",
     "output_type": "stream",
     "text": [
      "Enter the size:  5\n"
     ]
    },
    {
     "name": "stdout",
     "output_type": "stream",
     "text": [
      "    *\n",
      "   ***\n",
      "  *****\n",
      " *******\n",
      "*********\n"
     ]
    }
   ],
   "source": [
    "# 16. Generate a Simple Pyramid Pattern\n",
    "user_size = int(input('Enter the size: '))\n",
    "real_size = user_size + 1 if user_size % 2 == 0 else user_size\n",
    "for i in range(real_size):\n",
    "    print(\" \" * (real_size - i - 1) + \"*\" * (2 * i + 1))\n"
   ]
  },
  {
   "cell_type": "code",
   "execution_count": 11,
   "id": "d73f6628-a8c7-4eb9-9a8d-fe374af26b9b",
   "metadata": {},
   "outputs": [
    {
     "name": "stdin",
     "output_type": "stream",
     "text": [
      "Enter the lower number:  30\n",
      "Enter the upper number:  50\n"
     ]
    },
    {
     "name": "stdout",
     "output_type": "stream",
     "text": [
      "Prime numbers: [31, 37, 41, 43, 47]\n"
     ]
    }
   ],
   "source": [
    "# 17. Generate a List of Prime Numbers within a Range\n",
    "def prime_list(num_list):\n",
    "    return list(filter(lambda x: all(x % i != 0 for i in range(2, int(x ** 0.5) + 1)) and x > 1, num_list))\n",
    "\n",
    "# Input from user\n",
    "num_l = int(input('Enter the lower number: '))\n",
    "num_u = int(input('Enter the upper number: '))\n",
    "num_list = range(num_l, num_u + 1)  # Include the upper number\n",
    "\n",
    "# Generate and print the list of prime numbers\n",
    "print(\"Prime numbers:\", prime_list(num_list))\n"
   ]
  },
  {
   "cell_type": "code",
   "execution_count": 24,
   "id": "b56fff60-cd2c-49f8-9a65-106d9fa52824",
   "metadata": {},
   "outputs": [
    {
     "name": "stdin",
     "output_type": "stream",
     "text": [
      "enter the number: 3\n",
      "enter the number: 5\n"
     ]
    },
    {
     "name": "stdout",
     "output_type": "stream",
     "text": [
      "GCD: 1\n"
     ]
    }
   ],
   "source": [
    "# 18. Find the GCD of Two Numbers\n",
    "number_1=int(input(\"enter the number:\"))\n",
    "number_2=int(input('enter the number:'))\n",
    "greater = max(number_1, number_2)\n",
    "smallest = min(number_1, number_2)\n",
    "for i in range(smallest,0,-1):\n",
    "    if greater%i==0 and smallest%i==0:\n",
    "        print('GCD:',i)\n",
    "        break\n",
    "else:\n",
    "    print('no GCD')"
   ]
  },
  {
   "cell_type": "code",
   "execution_count": 20,
   "id": "0331f85e-cd3f-4ea1-aac1-e1d5aaf9d3c5",
   "metadata": {},
   "outputs": [
    {
     "name": "stdin",
     "output_type": "stream",
     "text": [
      "enter the square: 25\n"
     ]
    },
    {
     "name": "stdout",
     "output_type": "stream",
     "text": [
      "perfect square: 25\n"
     ]
    }
   ],
   "source": [
    "# 19. Check if a Number is a Perfect Square\n",
    "import math\n",
    "square=int(input('enter the square:'))\n",
    "sqrt=int(math.sqrt(square))\n",
    "if sqrt*sqrt==square:\n",
    "    print('perfect square:',square) \n",
    "else:\n",
    "    print('not a perfect square:',square)"
   ]
  },
  {
   "cell_type": "code",
   "execution_count": null,
   "id": "5b7fb104-aeec-4fa8-87ca-628efc9dd082",
   "metadata": {},
   "outputs": [],
   "source": [
    "# 20. Implement a Stack Data Structure\n",
    "from IPython.display import clear_output\n",
    "def insert():\n",
    "    item=int(input('enter the item:'))\n",
    "    queue.append(item)\n",
    "    print('item added succesfully..')\n",
    "def delete():\n",
    "    queue.pop()\n",
    "    print('the item deleted successfully..')\n",
    "def display():\n",
    "    print(queue)\n",
    "    \n",
    "queue=[]\n",
    "\n",
    "while True:\n",
    "    print(f'PRESS 1 FOR INSERT ITEM.\\n PRESS 2 FOR DELETE ITEM.\\n PRESS 3 FOR DISPLAY ITEM.\\n PRESS 4 TO EXIT' )\n",
    "    clear_output(wait=True)\n",
    "    option=int(input('enter the choice:'))\n",
    "    match option:\n",
    "        case 1:\n",
    "            insert()\n",
    "        case 2:\n",
    "            delete()\n",
    "        case 3:\n",
    "            display()\n",
    "        case 4:\n",
    "            break\n",
    "        case _:\n",
    "            print('invaild option..')\n",
    "        \n",
    "    input(\"\\nPress Enter to return to the options menu...\")\n",
    "    clear_output(wait=False)\n",
    "print('thanks for using queue!!')\n",
    "    "
   ]
  },
  {
   "cell_type": "code",
   "execution_count": 14,
   "id": "cd78541f-eb1b-4eeb-8d44-1bdc4064c32c",
   "metadata": {},
   "outputs": [
    {
     "name": "stdin",
     "output_type": "stream",
     "text": [
      "enter the character: 2\n"
     ]
    },
    {
     "name": "stdout",
     "output_type": "stream",
     "text": [
      "50\n"
     ]
    }
   ],
   "source": [
    "# 21. Find the ASCII Value of a Character\n",
    "character=input('enter the character:')\n",
    "print(ord(character))"
   ]
  },
  {
   "cell_type": "code",
   "execution_count": 21,
   "id": "9d586012-3dc7-45bf-83ff-29c0360b757c",
   "metadata": {},
   "outputs": [
    {
     "name": "stdin",
     "output_type": "stream",
     "text": [
      "Enter the size:  7\n"
     ]
    },
    {
     "name": "stdout",
     "output_type": "stream",
     "text": [
      "*******\n",
      " *****\n",
      "  ***\n",
      "   *\n"
     ]
    }
   ],
   "source": [
    "# 22. Generate a Simple Diamond Pattern\n",
    "u_size = int(input('Enter the size: '))\n",
    "r_size = u_size + 1 if u_size % 2 == 0 else u_size  # Ensure `r_size` is odd\n",
    "\n",
    "# Loop to generate the inverted pyramid\n",
    "for j in range(r_size // 2, -1, -1):\n",
    "    print(\" \" * (r_size // 2 - j), end=\"\")  # Leading spaces\n",
    "    print(\"*\" * (j * 2 + 1))  # Stars\n"
   ]
  },
  {
   "cell_type": "code",
   "execution_count": 30,
   "id": "b8741ba0-9646-415d-9ecf-2e9b8c20a975",
   "metadata": {},
   "outputs": [
    {
     "name": "stdin",
     "output_type": "stream",
     "text": [
      "enter the square: 56\n"
     ]
    },
    {
     "name": "stdout",
     "output_type": "stream",
     "text": [
      "not a perfect cube: 56\n"
     ]
    }
   ],
   "source": [
    "# 23. Check if a Number is a Perfect Cube\n",
    "import math\n",
    "cube=int(input('enter the square:'))\n",
    "cbrt=int(math.cbrt(cube))\n",
    "if cbrt*cbrt*cbrt==cube:\n",
    "    print('perfect cube:',cube) \n",
    "else:\n",
    "    print('not a perfect cube:',cube)"
   ]
  },
  {
   "cell_type": "code",
   "execution_count": null,
   "id": "eb5722c6-a20b-44d5-86a2-eb21a64ad826",
   "metadata": {},
   "outputs": [],
   "source": [
    "# 24. Implement a Queue Data Structure\n",
    "from IPython.display import clear_output\n",
    "def insert():\n",
    "    item=int(input('enter the item:'))\n",
    "    queue.append(item)\n",
    "    print('item added succesfully..')\n",
    "def delete():\n",
    "    queue.pop(0)\n",
    "    print('the item deleted successfully..')\n",
    "def display():\n",
    "    print(queue)\n",
    "    \n",
    "queue=[]\n",
    "\n",
    "while True:\n",
    "    print(f'PRESS 1 FOR INSERT ITEM.\\n PRESS 2 FOR DELETE ITEM.\\n PRESS 3 FOR DISPLAY ITEM.\\n PRESS 4 TO EXIT' )\n",
    "    clear_output(wait=True)\n",
    "    option=int(input('enter the choice:'))\n",
    "    match option:\n",
    "        case 1:\n",
    "            insert()\n",
    "        case 2:\n",
    "            delete()\n",
    "        case 3:\n",
    "            display()\n",
    "        case 4:\n",
    "            break\n",
    "        case _:\n",
    "            print('invaild option..')\n",
    "        \n",
    "    input(\"\\nPress Enter to return to the options menu...\")\n",
    "    clear_output(wait=False)\n",
    "print('thanks for using queue!!')"
   ]
  },
  {
   "cell_type": "code",
   "execution_count": 34,
   "id": "6e8c8367-7450-4a01-a8c1-6643713fa47e",
   "metadata": {},
   "outputs": [
    {
     "name": "stdin",
     "output_type": "stream",
     "text": [
      "enter the number: 45\n"
     ]
    },
    {
     "name": "stdout",
     "output_type": "stream",
     "text": [
      "factors: [1, 3, 5, 9, 15, 45]\n"
     ]
    }
   ],
   "source": [
    "# 25. Print the Factors of a Number\n",
    "number=int(input('enter the number:'))\n",
    "factors=[]\n",
    "for i in range(1,number+1):\n",
    "    if number%i==0:\n",
    "        factors.append(i)\n",
    "    else:\n",
    "        continue\n",
    "print('factors:',factors)"
   ]
  },
  {
   "cell_type": "code",
   "execution_count": 5,
   "id": "01ed5efc-5975-4226-b1df-da2719d4d880",
   "metadata": {},
   "outputs": [
    {
     "name": "stdin",
     "output_type": "stream",
     "text": [
      "Enter a sentence:  abcdefghijklmnopqrstuvwxyz\n"
     ]
    },
    {
     "name": "stdout",
     "output_type": "stream",
     "text": [
      "Pangram\n"
     ]
    }
   ],
   "source": [
    "# 26. Check if a String is a Pangram\n",
    "import string\n",
    "\n",
    "sentence = input('Enter a sentence: ').lower()\n",
    "# Check if all alphabets are present in the input sentence\n",
    "if all(letter in sentence for letter in string.ascii_lowercase):\n",
    "    print('Pangram')\n",
    "else:\n",
    "    print('Not a Pangram')\n"
   ]
  },
  {
   "cell_type": "code",
   "execution_count": 10,
   "id": "584ac83e-dcea-45ef-bc75-50f1222b7b06",
   "metadata": {},
   "outputs": [
    {
     "name": "stdin",
     "output_type": "stream",
     "text": [
      "enter the string: the moon is goood\n"
     ]
    },
    {
     "name": "stdout",
     "output_type": "stream",
     "text": [
      "['goood', 'is', 'moon', 'the']\n"
     ]
    }
   ],
   "source": [
    "# 27. Sort a List of Strings\n",
    "string_list=input('enter the string:').split(\" \")\n",
    "string_list.sort()\n",
    "print(string_list)"
   ]
  },
  {
   "cell_type": "code",
   "execution_count": 22,
   "id": "1d0d9857-0a57-49bc-80fb-f69cb6fb74f0",
   "metadata": {},
   "outputs": [
    {
     "name": "stdin",
     "output_type": "stream",
     "text": [
      "Enter the number of rows for Pascal's Triangle:  5\n"
     ]
    },
    {
     "name": "stdout",
     "output_type": "stream",
     "text": [
      "    1 \n",
      "   1 1 \n",
      "  1 2 1 \n",
      " 1 3 3 1 \n",
      "1 4 6 4 1 \n"
     ]
    }
   ],
   "source": [
    "# 28. Generate a Simple Pascal's Triangle\n",
    "def print_pascals_triangle(n):\n",
    "    for i in range(n):\n",
    "        # Print leading spaces for alignment\n",
    "        print(\" \" * (n - i - 1), end=\"\")\n",
    "        \n",
    "        # Calculate and print each value in the row\n",
    "        value = 1\n",
    "        for j in range(i + 1):\n",
    "            print(f\"{value} \", end=\"\")\n",
    "            value = value * (i - j) // (j + 1)  # Update value for the next element\n",
    "        \n",
    "        print()  # Move to the next line\n",
    "\n",
    "# Input the number of rows\n",
    "rows = int(input(\"Enter the number of rows for Pascal's Triangle: \"))\n",
    "print_pascals_triangle(rows)\n"
   ]
  },
  {
   "cell_type": "code",
   "execution_count": 29,
   "id": "3cd6fd3e-a727-4d58-9d68-13d215842d5d",
   "metadata": {},
   "outputs": [
    {
     "name": "stdout",
     "output_type": "stream",
     "text": [
      "In-order traversal:\n",
      "20 30 40 50 60 70 80 \n",
      "Search for 40:\n",
      "Found\n",
      "\n",
      "Pre-order traversal:\n",
      "50 30 20 40 70 60 80 \n",
      "Post-order traversal:\n",
      "20 40 30 60 80 70 50 "
     ]
    }
   ],
   "source": [
    "# 29. Implement a Binary Search Tree\n",
    "class Node:\n",
    "    def __init__(self, key):\n",
    "        self.left = None\n",
    "        self.right = None\n",
    "        self.value = key\n",
    "\n",
    "class BST:\n",
    "    def __init__(self):\n",
    "        self.root = None\n",
    "\n",
    "    # Insertion operation\n",
    "    def insert(self, key):\n",
    "        if self.root is None:\n",
    "            self.root = Node(key)\n",
    "        else:\n",
    "            self._insert(self.root, key)\n",
    "\n",
    "    def _insert(self, root, key):\n",
    "        if key < root.value:\n",
    "            if root.left is None:\n",
    "                root.left = Node(key)\n",
    "            else:\n",
    "                self._insert(root.left, key)\n",
    "        elif key > root.value:\n",
    "            if root.right is None:\n",
    "                root.right = Node(key)\n",
    "            else:\n",
    "                self._insert(root.right, key)\n",
    "\n",
    "    # Search operation\n",
    "    def search(self, key):\n",
    "        return self._search(self.root, key)\n",
    "\n",
    "    def _search(self, root, key):\n",
    "        if root is None or root.value == key:\n",
    "            return root\n",
    "        elif key < root.value:\n",
    "            return self._search(root.left, key)\n",
    "        else:\n",
    "            return self._search(root.right, key)\n",
    "\n",
    "    # In-order traversal (left-root-right)\n",
    "    def inorder(self):\n",
    "        self._inorder(self.root)\n",
    "\n",
    "    def _inorder(self, root):\n",
    "        if root:\n",
    "            self._inorder(root.left)\n",
    "            print(root.value, end=\" \")\n",
    "            self._inorder(root.right)\n",
    "\n",
    "    # Pre-order traversal (root-left-right)\n",
    "    def preorder(self):\n",
    "        self._preorder(self.root)\n",
    "\n",
    "    def _preorder(self, root):\n",
    "        if root:\n",
    "            print(root.value, end=\" \")\n",
    "            self._preorder(root.left)\n",
    "            self._preorder(root.right)\n",
    "\n",
    "    # Post-order traversal (left-right-root)\n",
    "    def postorder(self):\n",
    "        self._postorder(self.root)\n",
    "\n",
    "    def _postorder(self, root):\n",
    "        if root:\n",
    "            self._postorder(root.left)\n",
    "            self._postorder(root.right)\n",
    "            print(root.value, end=\" \")\n",
    "\n",
    "# Example usage\n",
    "bst = BST()\n",
    "bst.insert(50)\n",
    "bst.insert(30)\n",
    "bst.insert(20)\n",
    "bst.insert(40)\n",
    "bst.insert(70)\n",
    "bst.insert(60)\n",
    "bst.insert(80)\n",
    "\n",
    "# Print in-order traversal\n",
    "print(\"In-order traversal:\")\n",
    "bst.inorder()\n",
    "\n",
    "# Search for a value\n",
    "print(\"\\nSearch for 40:\")\n",
    "found_node = bst.search(40)\n",
    "print(\"Found\" if found_node else \"Not Found\")\n",
    "\n",
    "# Print pre-order traversal\n",
    "print(\"\\nPre-order traversal:\")\n",
    "bst.preorder()\n",
    "\n",
    "# Print post-order traversal\n",
    "print(\"\\nPost-order traversal:\")\n",
    "bst.postorder()\n"
   ]
  },
  {
   "cell_type": "code",
   "execution_count": 9,
   "id": "cfd46d54-5024-452d-b39d-fb488097196a",
   "metadata": {},
   "outputs": [
    {
     "name": "stdin",
     "output_type": "stream",
     "text": [
      "enter the number: 543687\n"
     ]
    },
    {
     "name": "stdout",
     "output_type": "stream",
     "text": [
      "6\n"
     ]
    }
   ],
   "source": [
    "# 30. Count the Number of Digits in an Integer\n",
    "number=int(input('enter the number:'))\n",
    "print(len(str(number)))"
   ]
  },
  {
   "cell_type": "code",
   "execution_count": 8,
   "id": "d02f8432-0051-4c72-a04b-c4305df02d8c",
   "metadata": {},
   "outputs": [
    {
     "name": "stdout",
     "output_type": "stream",
     "text": [
      ".V?>73#~QDz,\n"
     ]
    }
   ],
   "source": [
    "# 31. Generate a Random Password\n",
    "import random\n",
    "import string\n",
    "\n",
    "def generate_password(length=12):\n",
    "    characters = string.ascii_letters + string.digits + string.punctuation\n",
    "    password = ''.join(random.choice(characters) for _ in range(length))\n",
    "    return password\n",
    "\n",
    "# Generate a random password\n",
    "print(generate_password())\n"
   ]
  },
  {
   "cell_type": "code",
   "execution_count": 5,
   "id": "9e4f9c06-9c96-469f-a29b-2508bea55dff",
   "metadata": {},
   "outputs": [
    {
     "name": "stdin",
     "output_type": "stream",
     "text": [
      "enter the choice: 4\n"
     ]
    },
    {
     "name": "stdout",
     "output_type": "stream",
     "text": [
      "thanks for using queue!!\n"
     ]
    }
   ],
   "source": [
    "# 32. Implement a Queue using a List\n",
    "from IPython.display import clear_output\n",
    "def insert():\n",
    "    item=int(input('enter the item:'))\n",
    "    queue.append(item)\n",
    "    print('item added succesfully..')\n",
    "def delete():\n",
    "    queue.pop(0)\n",
    "    print('the item deleted successfully..')\n",
    "def display():\n",
    "    print(queue)\n",
    "    \n",
    "queue=[]\n",
    "\n",
    "while True:\n",
    "    print(f'PRESS 1 FOR INSERT ITEM.\\n PRESS 2 FOR DELETE ITEM.\\n PRESS 3 FOR DISPLAY ITEM.\\n PRESS 4 TO EXIT' )\n",
    "    clear_output(wait=True)\n",
    "    option=int(input('enter the choice:'))\n",
    "    match option:\n",
    "        case 1:\n",
    "            insert()\n",
    "        case 2:\n",
    "            delete()\n",
    "        case 3:\n",
    "            display()\n",
    "        case 4:\n",
    "            break\n",
    "        case _:\n",
    "            print('invaild option..')\n",
    "        \n",
    "    input(\"\\nPress Enter to return to the options menu...\")\n",
    "    clear_output(wait=False)\n",
    "print('thanks for using queue!!')\n",
    "    "
   ]
  },
  {
   "cell_type": "code",
   "execution_count": 28,
   "id": "aa94fef9-eea0-429c-ae89-9834fd73ead8",
   "metadata": {},
   "outputs": [
    {
     "name": "stdin",
     "output_type": "stream",
     "text": [
      "enter the month: 8\n",
      "enter the year: 2004\n"
     ]
    },
    {
     "name": "stdout",
     "output_type": "stream",
     "text": [
      "    August 2004\n",
      "Mo Tu We Th Fr Sa Su\n",
      "                   1\n",
      " 2  3  4  5  6  7  8\n",
      " 9 10 11 12 13 14 15\n",
      "16 17 18 19 20 21 22\n",
      "23 24 25 26 27 28 29\n",
      "30 31\n",
      "\n"
     ]
    },
    {
     "name": "stdin",
     "output_type": "stream",
     "text": [
      "enter the month: 11\n",
      "enter the year: 2004\n"
     ]
    },
    {
     "name": "stdout",
     "output_type": "stream",
     "text": [
      "   November 2004\n",
      "Mo Tu We Th Fr Sa Su\n",
      " 1  2  3  4  5  6  7\n",
      " 8  9 10 11 12 13 14\n",
      "15 16 17 18 19 20 21\n",
      "22 23 24 25 26 27 28\n",
      "29 30\n",
      "\n"
     ]
    }
   ],
   "source": [
    "# 33. Print the Calendar of a Given Month and Year\n",
    "import calendar\n",
    "month=int(input('enter the month:'))\n",
    "year=int(input('enter the year:'))\n",
    "print(calendar.month(year,month))\n",
    "month=int(input('enter the month:'))\n",
    "year=int(input('enter the year:'))\n",
    "print(calendar.month(year,month))"
   ]
  },
  {
   "cell_type": "code",
   "execution_count": 23,
   "id": "6ef09cf8-6912-4a55-829d-965b42c58962",
   "metadata": {},
   "outputs": [
    {
     "name": "stdin",
     "output_type": "stream",
     "text": [
      "enter the number1: 32\n",
      "enter the number2: 10\n",
      "enter the number3: 89\n"
     ]
    },
    {
     "name": "stdout",
     "output_type": "stream",
     "text": [
      "32.0\n"
     ]
    }
   ],
   "source": [
    "# 35. Find the Median of Three Values\n",
    "import numpy as np\n",
    "values=list(int(input(f'enter the number{i+1}:'))for i in range(3))\n",
    "print(np.median(values))\n"
   ]
  },
  {
   "cell_type": "code",
   "execution_count": 20,
   "id": "0d00e0fe-d50b-4e9c-b977-c3d9b7032ab8",
   "metadata": {},
   "outputs": [
    {
     "name": "stdin",
     "output_type": "stream",
     "text": [
      "enter the number: 2310201434\n"
     ]
    },
    {
     "name": "stdout",
     "output_type": "stream",
     "text": [
      "20\n"
     ]
    }
   ],
   "source": [
    "# 36. Find the Sum of Digits in a Number\n",
    "number=int(input('enter the number:'))\n",
    "add=0\n",
    "for i in str(number):\n",
    "    add=add+int(i)\n",
    "print(add)"
   ]
  },
  {
   "cell_type": "code",
   "execution_count": 18,
   "id": "3a17f1a8-316e-4d14-b230-b9ac294cf2a1",
   "metadata": {},
   "outputs": [
    {
     "name": "stdin",
     "output_type": "stream",
     "text": [
      "enter the number: 4\n"
     ]
    },
    {
     "name": "stdout",
     "output_type": "stream",
     "text": [
      "0b100\n",
      "0o4\n",
      "0x4\n"
     ]
    }
   ],
   "source": [
    "# 37. Convert Decimal to Binary, Octal, and Hexadecimal\n",
    "number=int(input('enter the number:'))\n",
    "print(bin(number),oct(number),hex(number),sep='\\n')"
   ]
  },
  {
   "cell_type": "code",
   "execution_count": 24,
   "id": "d9c4997c-e912-46f8-83c0-fc951e59c0c1",
   "metadata": {},
   "outputs": [
    {
     "name": "stdout",
     "output_type": "stream",
     "text": [
      "Original array: [64, 25, 12, 22, 11]\n",
      "Sorted array: [11, 12, 22, 25, 64]\n"
     ]
    }
   ],
   "source": [
    "# 38. Implement Selection Sort\n",
    "def selection_sort(arr):\n",
    "    n = len(arr)\n",
    "    for i in range(n):\n",
    "        # Find the minimum element in the unsorted part of the array\n",
    "        min_index = i\n",
    "        for j in range(i + 1, n):\n",
    "            if arr[j] < arr[min_index]:\n",
    "                min_index = j\n",
    "        # Swap the found minimum element with the first element of the unsorted part\n",
    "        arr[i], arr[min_index] = arr[min_index], arr[i]\n",
    "\n",
    "# Example usage\n",
    "arr = [64, 25, 12, 22, 11]\n",
    "print(\"Original array:\", arr)\n",
    "selection_sort(arr)\n",
    "print(\"Sorted array:\", arr)\n"
   ]
  },
  {
   "cell_type": "code",
   "execution_count": 25,
   "id": "c5efeef8-0682-42d0-a3a5-39a807874609",
   "metadata": {},
   "outputs": [
    {
     "name": "stdout",
     "output_type": "stream",
     "text": [
      "Original array: [12, 11, 13, 5, 6]\n",
      "Sorted array: [5, 6, 11, 12, 13]\n"
     ]
    }
   ],
   "source": [
    "# 39. Implement Insertion Sort\n",
    "def insertion_sort(arr):\n",
    "    for i in range(1, len(arr)):\n",
    "        key = arr[i]\n",
    "        j = i - 1\n",
    "        # Move elements of the sorted part that are greater than `key` one position ahead\n",
    "        while j >= 0 and key < arr[j]:\n",
    "            arr[j + 1] = arr[j]\n",
    "            j -= 1\n",
    "        arr[j + 1] = key\n",
    "\n",
    "# Example usage\n",
    "arr = [12, 11, 13, 5, 6]\n",
    "print(\"Original array:\", arr)\n",
    "insertion_sort(arr)\n",
    "print(\"Sorted array:\", arr)\n"
   ]
  },
  {
   "cell_type": "code",
   "execution_count": 28,
   "id": "50c8b7c4-456c-4711-a085-3c969ea359d1",
   "metadata": {},
   "outputs": [
    {
     "name": "stdout",
     "output_type": "stream",
     "text": [
      "Original array: [64, 34, 25, 12, 22, 11, 90]\n",
      "Sorted array: [11, 12, 22, 25, 34, 64, 90]\n"
     ]
    }
   ],
   "source": [
    "# 40. Implement a Bubble Sort Algorithm\n",
    "def bubble_sort(arr):\n",
    "    n = len(arr)\n",
    "    for i in range(n):\n",
    "        # Track whether any swap is made in this pass\n",
    "        swapped = False\n",
    "        for j in range(0, n - i - 1):\n",
    "            # Swap if the current element is greater than the next element\n",
    "            if arr[j] > arr[j + 1]:\n",
    "                arr[j], arr[j + 1] = arr[j + 1], arr[j]\n",
    "                swapped = True\n",
    "        # If no swaps were made, the array is already sorted\n",
    "        if not swapped:\n",
    "            break\n",
    "\n",
    "# Input and Output Example\n",
    "arr = [64, 34, 25, 12, 22, 11, 90]\n",
    "print(\"Original array:\", arr)\n",
    "\n",
    "bubble_sort(arr)\n",
    "print(\"Sorted array:\", arr)\n"
   ]
  },
  {
   "cell_type": "code",
   "execution_count": 26,
   "id": "439a65b4-64e7-4262-b606-c60560a3ad85",
   "metadata": {},
   "outputs": [
    {
     "name": "stdout",
     "output_type": "stream",
     "text": [
      "Original array: [10, 7, 8, 9, 1, 5]\n",
      "Sorted array: [1, 5, 7, 8, 9, 10]\n"
     ]
    }
   ],
   "source": [
    "# 41. Implement Quick Sort\n",
    "def quick_sort(arr):\n",
    "    def partition(low, high):\n",
    "        pivot = arr[high]  # Select the last element as the pivot\n",
    "        i = low - 1  # Pointer for the smaller element\n",
    "        for j in range(low, high):\n",
    "            if arr[j] <= pivot:\n",
    "                i += 1\n",
    "                arr[i], arr[j] = arr[j], arr[i]\n",
    "        arr[i + 1], arr[high] = arr[high], arr[i + 1]\n",
    "        return i + 1\n",
    "\n",
    "    def quick_sort_recursive(low, high):\n",
    "        if low < high:\n",
    "            pi = partition(low, high)  # Partition the array\n",
    "            quick_sort_recursive(low, pi - 1)  # Sort the left part\n",
    "            quick_sort_recursive(pi + 1, high)  # Sort the right part\n",
    "\n",
    "    quick_sort_recursive(0, len(arr) - 1)\n",
    "\n",
    "# Example usage\n",
    "arr = [10, 7, 8, 9, 1, 5]\n",
    "print(\"Original array:\", arr)\n",
    "quick_sort(arr)\n",
    "print(\"Sorted array:\", arr)\n"
   ]
  },
  {
   "cell_type": "code",
   "execution_count": 27,
   "id": "06fc54e3-1e81-4723-bf7f-ddc22f861fac",
   "metadata": {},
   "outputs": [
    {
     "name": "stdout",
     "output_type": "stream",
     "text": [
      "Original array: [38, 27, 43, 3, 9, 82, 10]\n",
      "Sorted array: [3, 9, 10, 27, 38, 43, 82]\n"
     ]
    }
   ],
   "source": [
    "# 42. Implement a Merge Sort Algorithm\n",
    "def merge_sort(arr):\n",
    "    if len(arr) > 1:\n",
    "        # Divide the array into two halves\n",
    "        mid = len(arr) // 2\n",
    "        left = arr[:mid]\n",
    "        right = arr[mid:]\n",
    "\n",
    "        # Recursively sort the halves\n",
    "        merge_sort(left)\n",
    "        merge_sort(right)\n",
    "\n",
    "        # Merge the sorted halves\n",
    "        i = j = k = 0\n",
    "        while i < len(left) and j < len(right):\n",
    "            if left[i] < right[j]:\n",
    "                arr[k] = left[i]\n",
    "                i += 1\n",
    "            else:\n",
    "                arr[k] = right[j]\n",
    "                j += 1\n",
    "            k += 1\n",
    "\n",
    "        # Copy remaining elements, if any\n",
    "        while i < len(left):\n",
    "            arr[k] = left[i]\n",
    "            i += 1\n",
    "            k += 1\n",
    "        while j < len(right):\n",
    "            arr[k] = right[j]\n",
    "            j += 1\n",
    "            k += 1\n",
    "\n",
    "# Example usage\n",
    "arr = [38, 27, 43, 3, 9, 82, 10]\n",
    "print(\"Original array:\", arr)\n",
    "merge_sort(arr)\n",
    "print(\"Sorted array:\", arr)"
   ]
  },
  {
   "cell_type": "code",
   "execution_count": 17,
   "id": "49094bea-3a58-4628-b640-adac0cd25fea",
   "metadata": {},
   "outputs": [
    {
     "name": "stdin",
     "output_type": "stream",
     "text": [
      "enter the email: prteek@gmail.com\n"
     ]
    },
    {
     "name": "stdout",
     "output_type": "stream",
     "text": [
      "@gmail.com\n"
     ]
    }
   ],
   "source": [
    "# 43. Check if a String is a Valid Email Address\n",
    "import re\n",
    "email=input('enter the email:')\n",
    "check=re.search(r'@gmail.com$',email)\n",
    "print(check.group())"
   ]
  },
  {
   "cell_type": "code",
   "execution_count": 14,
   "id": "bcf4b177-f2f8-47e2-aaa7-79f03490668f",
   "metadata": {},
   "outputs": [
    {
     "name": "stdout",
     "output_type": "stream",
     "text": [
      "[522, 451, 873, 469, 908, 809, 243, 328, 29, 190]\n"
     ]
    }
   ],
   "source": [
    "# 44. Generate a Random List of Numbers\n",
    "import random\n",
    "random_list=list(random.randint(1,1000) for _ in range(10))\n",
    "print(random_list)"
   ]
  }
 ],
 "metadata": {
  "kernelspec": {
   "display_name": "Python 3 (ipykernel)",
   "language": "python",
   "name": "python3"
  },
  "language_info": {
   "codemirror_mode": {
    "name": "ipython",
    "version": 3
   },
   "file_extension": ".py",
   "mimetype": "text/x-python",
   "name": "python",
   "nbconvert_exporter": "python",
   "pygments_lexer": "ipython3",
   "version": "3.12.4"
  }
 },
 "nbformat": 4,
 "nbformat_minor": 5
}
