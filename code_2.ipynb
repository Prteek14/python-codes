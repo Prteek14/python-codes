{
 "cells": [
  {
   "cell_type": "markdown",
   "id": "4795f19b-c798-4dea-87fd-a8a7e327f56c",
   "metadata": {
    "editable": true,
    "raw_mimetype": "",
    "slideshow": {
     "slide_type": ""
    },
    "tags": []
   },
   "source": [
    "> 10 questions\n",
    "---\n",
    "1. Create a ATM system that allows a user to perform the following\n",
    "   operation :-\n",
    "   • Check balance\n",
    "   • Deposit money\n",
    "   • Withdraw money\n",
    "2. Create a number guessing game where user will guess the\n",
    "   number and system check whether the winning number is correct\n",
    "   or not (winning number will be hidden).\n",
    "3. WAP to print Fibonacci series.\n",
    "4. WAP to get the factorial of a number.\n",
    "5. WAP to check whether the given string is palindrome or not.\n",
    "6. WAP to check whether the number is prime or not.\n",
    "7. WAP to print square of the even numbers and cube of the odd\n",
    "   numbers in the range from 1 to 100.\n",
    "8. WAP to print the square of each numbers in a list using map\n",
    "   function.\n",
    "9. WAP to print Diamond pattern.\n",
    "10. Create a class of student with the attributes.\n",
    "---\n",
    "> # 50 Questions\n",
    "1. Write a Python program to print \"Hello, World!\" in interactive mode.\n",
    "2. Write a b that takes user input for their name and prints a greeting.\n",
    "3. Create a program that demonstrates the use of variables by assigning and printing different data types (e.g., integer, float, string).\n",
    "4. Write a script that takes two numbers as input and prints their sum.\n",
    "5. Write a program that uses arithmetic operators to perform basic math operations on two user-input numbers.\n",
    "6. Create a Python script that uses at least three different types of literals (e.g., string, integer, float).\n",
    "7. Write a Python script to demonstrate the use of assignment operators.\n",
    "8. Write a program that checks if a given word is a Python keyword.\n",
    "9. Create a program that reads an integer from the user and prints whether it's positive,negative, or zero.\n",
    "10. Write a program that takes a number as input, converts it to a string, and displays it with a message.\n",
    "11. Write a program to demonstrate the usage of various data types in Python (int, float, bool, string).\n",
    "12. Write a script that stores and prints a list of favorite colors.\n",
    "13. Create a program that creates a tuple of 5 numbers and prints the sum of the numbers.\n",
    "14. Write a program to convert a list into a set and print the result.\n",
    "15. Create a dictionary to store student names as keys and their scores as values. Print the dictionary.\n",
    "16. Write a program that demonstrates the immutability of tuples.\n",
    "17. Create a program that adds two lists element-wise and stores the result in a new list.\n",
    "18. Write a program that accepts user input as a set and performs union and intersection with a predefined set.\n",
    "19. Write a Python program to take a string as input and print each character on a new line.\n",
    "20. Create a program that uses string slicing to reverse a given string.\n",
    "21. Write a script that takes a sentence as input and prints the sentence in all uppercase letters.\n",
    "22. Write a program that counts the number of vowels in a given string.\n",
    "23. Create a program that concatenates two strings and prints the result.\n",
    "24. Write a program to create a list of integers, then print the maximum and minimum values.\n",
    "25. Write a script to join two lists and print the combined list.\n",
    "26. Create a program to replicate a list three times and print the result.\n",
    "27. Write a program that takes a list of numbers as input and prints only the even numbers.\n",
    "28. Write a program that creates a tuple of 5 strings and accesses the second element.\n",
    "29. Create a program that joins two tuples and prints the result.\n",
    "30. Write a script that replicates a tuple twice and prints the result.\n",
    "31. Write a program that creates a dictionary with three key-value pairs and prints all the keys.\n",
    "32. Create a Python program that creates a set of numbers and prints it.\n",
    "33. Write a program to convert a list into a frozenset and print it.\n",
    "34. Write a program to demonstrate the use of a set operation (union or intersection) with two sets.\n",
    "35. Write a program that uses an `if-else` statement to check if a given number is even or odd.\n",
    "36. Create a Pandas DataFrame with columns \"Name\", \"Age\", and \"Score\" using sample data. Display the first 5 rows.\n",
    "37. Load a CSV file into a Pandas DataFrame and print the summary statistics of its numerical columns.\n",
    "38. Write a program that filters rows in a DataFrame based on a specific condition (e.g., all rows where Age > 20).\n",
    "39. Create a 3x3 NumPy array with random integers and calculate its transpose.\n",
    "40. Write a program to create a 1D NumPy array of values from 0 to 10, then replace all even values with -1.\n",
    "41. Using a NumPy array, calculate the mean, median, and standard deviation of the values.\n",
    "42. Create a Python class called Rectangle with attributes for length and width, and a method to calculate the area of the rectangle.\n",
    "43. Write a Python class BankAccount with methods to deposit, withdraw, and check the balance. Ensure that withdrawals cannot exceed the     balance.\n",
    "44. Create an Employee class with name and salary attributes, and a method to give a raise.Demonstrate how to use inheritance                by creating a Manager subclass.\n",
    "45. Write a Python script to read a text file line by line and count the number of lines in the file.\n",
    "46. Write a program that appends text to an existing file without overwriting its current content.\n",
    "47. Create a script to read a CSV file and print each row in a formatted way.\n",
    "48. Write a program that asks for two numbers as input and divides the first by the second. Handle any exceptions that may occur (e.g.,      ZeroDivisionError, ValueError).\n",
    "49. Create a function that reads from a file. Handle the FileNotFoundError exception if the file does not exist.\n",
    "50. Write a script that asks the user for a number and calculates its square root. Handle cases where the input is not a number or is        negative."
   ]
  },
  {
   "cell_type": "code",
   "execution_count": 1,
   "id": "2a65d45b-af2f-4115-a590-0c8f8af2b11e",
   "metadata": {},
   "outputs": [
    {
     "name": "stdout",
     "output_type": "stream",
     "text": [
      "Enter a number to guess:  44\n"
     ]
    },
    {
     "name": "stdout",
     "output_type": "stream",
     "text": [
      "Too low\n"
     ]
    },
    {
     "name": "stdout",
     "output_type": "stream",
     "text": [
      "Enter a number to guess:  88\n"
     ]
    },
    {
     "name": "stdout",
     "output_type": "stream",
     "text": [
      "Low\n"
     ]
    },
    {
     "name": "stdout",
     "output_type": "stream",
     "text": [
      "Enter a number to guess:  100\n"
     ]
    },
    {
     "name": "stdout",
     "output_type": "stream",
     "text": [
      "Low\n"
     ]
    },
    {
     "name": "stdout",
     "output_type": "stream",
     "text": [
      "Enter a number to guess:  111\n"
     ]
    },
    {
     "name": "stdout",
     "output_type": "stream",
     "text": [
      "Low\n"
     ]
    },
    {
     "name": "stdout",
     "output_type": "stream",
     "text": [
      "Enter a number to guess:  117\n"
     ]
    },
    {
     "name": "stdout",
     "output_type": "stream",
     "text": [
      "Low\n"
     ]
    },
    {
     "name": "stdout",
     "output_type": "stream",
     "text": [
      "Enter a number to guess:  144\n"
     ]
    },
    {
     "name": "stdout",
     "output_type": "stream",
     "text": [
      "Low\n"
     ]
    },
    {
     "name": "stdout",
     "output_type": "stream",
     "text": [
      "Enter a number to guess:  178\n"
     ]
    },
    {
     "name": "stdout",
     "output_type": "stream",
     "text": [
      "High\n"
     ]
    },
    {
     "name": "stdout",
     "output_type": "stream",
     "text": [
      "Enter a number to guess:  155\n"
     ]
    },
    {
     "name": "stdout",
     "output_type": "stream",
     "text": [
      "High\n"
     ]
    },
    {
     "name": "stdout",
     "output_type": "stream",
     "text": [
      "Enter a number to guess:  150\n"
     ]
    },
    {
     "name": "stdout",
     "output_type": "stream",
     "text": [
      "Low\n"
     ]
    },
    {
     "name": "stdout",
     "output_type": "stream",
     "text": [
      "Enter a number to guess:  153\n"
     ]
    },
    {
     "name": "stdout",
     "output_type": "stream",
     "text": [
      "Low\n"
     ]
    },
    {
     "name": "stdout",
     "output_type": "stream",
     "text": [
      "Enter a number to guess:  154\n"
     ]
    },
    {
     "name": "stdout",
     "output_type": "stream",
     "text": [
      "Matched! You guessed it!\n"
     ]
    }
   ],
   "source": [
    "# 2. number guessing\n",
    "import random\n",
    "\n",
    "# Generate a random number between 1 and 200\n",
    "number = random.randint(1, 200)\n",
    "\n",
    "while True:\n",
    "    try:\n",
    "        # Prompt user for input\n",
    "        user_guess = int(input(\"Enter a number to guess: \"))\n",
    "\n",
    "        # Check conditions\n",
    "        if user_guess < number // 2:\n",
    "            print(\"Too low\")\n",
    "        elif user_guess < number:\n",
    "            print(\"Low\")\n",
    "        elif user_guess > number * 2:\n",
    "            print(\"Too high\")\n",
    "        elif user_guess > number:\n",
    "            print(\"High\")\n",
    "        elif user_guess == number:\n",
    "            print(\"Matched! You guessed it!\")\n",
    "            break  # Exit the loop when guessed correctly\n",
    "    except ValueError:\n",
    "        # Handle invalid input (non-integer values)\n",
    "        print(\"Invalid input! Please enter an integer.\")\n",
    "        \n"
   ]
  },
  {
   "cell_type": "code",
   "execution_count": 1,
   "id": "0a53b6e7-4f5d-4bbe-8716-bee40fe9139a",
   "metadata": {},
   "outputs": [
    {
     "name": "stdin",
     "output_type": "stream",
     "text": [
      "enter the number for series: 5\n"
     ]
    },
    {
     "name": "stdout",
     "output_type": "stream",
     "text": [
      "0 1 1 2 3 "
     ]
    }
   ],
   "source": [
    "#3. fibonacci series\n",
    "def fib(number):\n",
    "    if number <=1:\n",
    "        return number\n",
    "    else:\n",
    "        return fib(number-1) + fib(number-2)\n",
    "number=int(input(\"enter the number for series:\"))\n",
    "for i in range(number):\n",
    "    print(fib(i),end=\" \")\n",
    "\n"
   ]
  },
  {
   "cell_type": "code",
   "execution_count": 4,
   "id": "3d3da3eb-12c6-4298-9eb4-d197bae8d1ce",
   "metadata": {},
   "outputs": [
    {
     "name": "stdout",
     "output_type": "stream",
     "text": [
      "enter the number to factorial: 5\n"
     ]
    },
    {
     "name": "stdout",
     "output_type": "stream",
     "text": [
      "factorial of  5 is 120\n"
     ]
    }
   ],
   "source": [
    "# 4. factorial\n",
    "def fac(n):\n",
    "    if n<=1:\n",
    "        return n\n",
    "    else:\n",
    "        return n*fac(n-1)\n",
    "number=int(input(\"enter the number to factorial:\"))\n",
    "print(\"factorial of \",number,\"is\",fac(number))"
   ]
  },
  {
   "cell_type": "code",
   "execution_count": 8,
   "id": "2f6f0467-69ed-4ca3-bc7f-b98c4475751c",
   "metadata": {},
   "outputs": [
    {
     "name": "stdout",
     "output_type": "stream",
     "text": [
      "enter the string : ere\n"
     ]
    },
    {
     "name": "stdout",
     "output_type": "stream",
     "text": [
      "matched: ere\n"
     ]
    }
   ],
   "source": [
    "# 5. WAP to check whether the given string is palindrome or not.\n",
    "string = input(\"enter the string :\")\n",
    "rev_s=string[::-1]\n",
    "if rev_s==string:\n",
    "    print(\"matched:\" , string)\n",
    "else:\n",
    "    print(\"unmatched\",string)"
   ]
  },
  {
   "cell_type": "code",
   "execution_count": 21,
   "id": "527de94c-f328-4ba7-a662-77c125271291",
   "metadata": {},
   "outputs": [
    {
     "name": "stdout",
     "output_type": "stream",
     "text": [
      "Enter the number to check if it is prime or not:  21\n"
     ]
    },
    {
     "name": "stdout",
     "output_type": "stream",
     "text": [
      "The number is not prime: 21\n"
     ]
    }
   ],
   "source": [
    "# 6. WAP to check whether the number is prime or not.\n",
    "number = int(input(\"Enter the number to check if it is prime or not: \"))\n",
    "if number > 1:  # Prime numbers are greater than 1\n",
    "    for i in range(2, number // 2 + 1):  # Include the correct range\n",
    "        if number % i == 0:\n",
    "            print(\"The number is not prime:\", number)\n",
    "            break\n",
    "    else:\n",
    "        print(\"The number is prime:\", number)\n",
    "else:\n",
    "    print(\"The number is not prime:\", number)  # Handles cases for 0, 1, and negative numbers\n"
   ]
  },
  {
   "cell_type": "code",
   "execution_count": 30,
   "id": "c7d5e635-4a12-4b8a-9db7-4ebb1aea54e6",
   "metadata": {},
   "outputs": [
    {
     "name": "stdout",
     "output_type": "stream",
     "text": [
      "Even squares: [4, 16, 36, 64, 100, 144, 196, 256, 324, 400, 484, 576, 676, 784, 900, 1024, 1156, 1296, 1444, 1600, 1764, 1936, 2116, 2304, 2500, 2704, 2916, 3136, 3364, 3600, 3844, 4096, 4356, 4624, 4900, 5184, 5476, 5776, 6084, 6400, 6724, 7056, 7396, 7744, 8100, 8464, 8836, 9216, 9604]\n",
      "Odd squares: [1, 9, 25, 49, 81, 121, 169, 225, 289, 361, 441, 529, 625, 729, 841, 961, 1089, 1225, 1369, 1521, 1681, 1849, 2025, 2209, 2401, 2601, 2809, 3025, 3249, 3481, 3721, 3969, 4225, 4489, 4761, 5041, 5329, 5625, 5929, 6241, 6561, 6889, 7225, 7569, 7921, 8281, 8649, 9025, 9409, 9801]\n"
     ]
    }
   ],
   "source": [
    "# 7. WAP to print square of the even numbers and cube of the odd numbers in the range from 1 to 100.\n",
    "\n",
    "even_square = [i**2 for i in range(1, 100) if i % 2 == 0]\n",
    "odd_square = [i**2 for i in range(1, 100) if i % 2 != 0]\n",
    "\n",
    "print(\"Even squares:\", even_square)\n",
    "print(\"Odd squares:\", odd_square)\n"
   ]
  },
  {
   "cell_type": "code",
   "execution_count": 37,
   "id": "d95dd222-e3d1-4c06-aab1-86d583506539",
   "metadata": {},
   "outputs": [
    {
     "name": "stdout",
     "output_type": "stream",
     "text": [
      "Enter item 1:  1\n",
      "Enter item 2:  2\n",
      "Enter item 3:  3\n",
      "Enter item 4:  4\n",
      "Enter item 5:  5\n"
     ]
    },
    {
     "name": "stdout",
     "output_type": "stream",
     "text": [
      "[1, 4, 9, 16, 25]\n"
     ]
    }
   ],
   "source": [
    "# 8. WAP to print the square of each numbers in a list using map function.\n",
    "list1 = [int(input(f'Enter item {i + 1}: ')) for i in range(5)]\n",
    "square_of_list=list(map(lambda i:i**2,list1))\n",
    "print(square_of_list)"
   ]
  },
  {
   "cell_type": "code",
   "execution_count": 12,
   "id": "687ef2f6-5048-4678-850b-df724dbb9334",
   "metadata": {},
   "outputs": [
    {
     "name": "stdout",
     "output_type": "stream",
     "text": [
      "Enter the number:  5\n"
     ]
    },
    {
     "name": "stdout",
     "output_type": "stream",
     "text": [
      "  *\n",
      " ***\n",
      "*****\n",
      " ***\n",
      "  *\n"
     ]
    }
   ],
   "source": [
    "# 9. print star *\n",
    "user_number = int(input('Enter the number: '))\n",
    "# Ensure `number` is always odd\n",
    "number = user_number + 1 if user_number % 2 == 0 else user_number\n",
    "\n",
    "# Upper part of the pattern\n",
    "for i in range(number // 2 + 1):\n",
    "    print(\" \" * (number // 2 - i), end=\"\")\n",
    "    print(\"*\" * (i * 2 + 1))\n",
    "\n",
    "# Lower part of the pattern\n",
    "for j in range(number // 2 - 1, -1, -1):\n",
    "    print(\" \" * (number // 2 - j), end=\"\")\n",
    "    print(\"*\" * (j * 2 + 1))\n"
   ]
  },
  {
   "cell_type": "code",
   "execution_count": 28,
   "id": "6088b281-22dc-4efb-9a4f-86231cae4f7e",
   "metadata": {},
   "outputs": [
    {
     "data": {
      "text/plain": [
       "'prteek'"
      ]
     },
     "execution_count": 28,
     "metadata": {},
     "output_type": "execute_result"
    }
   ],
   "source": [
    "# 10.Create a class of student with the attributes.\n",
    "class student:\n",
    "    def __init__(self,name,age):\n",
    "        self.name=name\n",
    "        self.age=age\n",
    "\n",
    "obj1=student(\"prteek\",20)\n"
   ]
  },
  {
   "cell_type": "code",
   "execution_count": 1,
   "id": "85ce3a46-a3b1-4d3e-aad9-48b8d1299675",
   "metadata": {},
   "outputs": [
    {
     "name": "stdout",
     "output_type": "stream",
     "text": [
      "hello, world!\n"
     ]
    }
   ],
   "source": [
    "# 1. Write a Python program to print \"Hello, World!\" in interactive mode.\n",
    "\n",
    "print(\"hello, world!\")"
   ]
  },
  {
   "cell_type": "code",
   "execution_count": 2,
   "id": "34e61b35-a0f4-45db-92b0-3f24db7235fb",
   "metadata": {},
   "outputs": [
    {
     "name": "stdout",
     "output_type": "stream",
     "text": [
      "enter your name:  prteek\n"
     ]
    },
    {
     "name": "stdout",
     "output_type": "stream",
     "text": [
      "good morning!!, prteek\n"
     ]
    }
   ],
   "source": [
    "# 2. Write a program that takes user input for their name and prints a greeting.\n",
    "\n",
    "name=str(input(\"enter your name: \"))\n",
    "print(f\"good morning!!, {name}\")"
   ]
  },
  {
   "cell_type": "code",
   "execution_count": 3,
   "id": "3b4f5614-8e01-475c-96b5-0af8a582a586",
   "metadata": {},
   "outputs": [
    {
     "name": "stdout",
     "output_type": "stream",
     "text": [
      "enter the integer: 82\n",
      "enter the decimal number: 34.489\n",
      "enter the string: PRTEEK\n"
     ]
    },
    {
     "name": "stdout",
     "output_type": "stream",
     "text": [
      "82\n",
      "34.489\n",
      "PRTEEK\n"
     ]
    }
   ],
   "source": [
    "#3.Create a program that demonstrates the use of variables by assigning and printing different data types (e.g., integer, float, string).\n",
    "\n",
    "integer= int(input(\"enter the integer:\"))\n",
    "floating_num= float(input(\"enter the decimal number:\"))\n",
    "string=input(\"enter the string:\") # by default it is str.\n",
    "print(f\"{integer}\\n{floating_num}\\n{string}\")"
   ]
  },
  {
   "cell_type": "code",
   "execution_count": 6,
   "id": "eed12107-8ea9-4d3b-972f-6dd712280c45",
   "metadata": {},
   "outputs": [
    {
     "name": "stdout",
     "output_type": "stream",
     "text": [
      "enter the number: 6\n",
      "enter the number: 7\n"
     ]
    },
    {
     "name": "stdout",
     "output_type": "stream",
     "text": [
      "13\n"
     ]
    }
   ],
   "source": [
    "#4. Write a script that takes two numbers as input and prints their sum.\n",
    "\n",
    "num1=int(input(\"enter the number:\"))\n",
    "num2=int(input(\"enter the number:\"))\n",
    "add=num1+num2\n",
    "print(add)"
   ]
  },
  {
   "cell_type": "code",
   "execution_count": null,
   "id": "24277b80-e0e2-4ae7-ba94-f7cb33848d9a",
   "metadata": {},
   "outputs": [],
   "source": [
    "#5. Write a program that uses arithmetic operators to perform basic math operations on two user-input numbers.\n",
    "\n",
    "minus = num1 - num2\n",
    "mul= num1*num2\n",
    "divide= num1/num2\n",
    "floor_division=num1//num2\n",
    "modulas=num1%5\n",
    "power=num1**num2\n",
    "print(f\"{minus}\\n{add}\\n{diivide}\\n{floor_division}\\n\")"
   ]
  },
  {
   "cell_type": "code",
   "execution_count": 31,
   "id": "6cb366c2-5919-442b-be30-cbd51474c846",
   "metadata": {},
   "outputs": [
    {
     "name": "stdout",
     "output_type": "stream",
     "text": [
      "enter the number but integer: 29\n",
      "enter the number but float: 10\n",
      "enter the string: prteek\n"
     ]
    },
    {
     "name": "stdout",
     "output_type": "stream",
     "text": [
      "integer=29\n",
      "float=10.0\n",
      "string=prteek\n"
     ]
    }
   ],
   "source": [
    "# 6. Create a Python script that uses at least three different types of literals (e.g., string,integer, float).\n",
    "int_number=int(input('enter the number but integer:'))\n",
    "float_number=float(input('enter the number but float:'))\n",
    "string=input('enter the string:')\n",
    "print(f\"integer={int_number}\\nfloat={float_number}\\nstring={string}\")"
   ]
  },
  {
   "cell_type": "code",
   "execution_count": 35,
   "id": "ed254af8-0312-4ac8-9420-b326c24af10b",
   "metadata": {},
   "outputs": [
    {
     "name": "stdout",
     "output_type": "stream",
     "text": [
      "the integer: 189\n",
      "the string: prateek\n",
      "adding in itself: 199\n",
      "subtaract in itself: 189\n",
      "multiply by 2 assing to itself: 378\n",
      "divide by 2 assign to itself: 189.0\n",
      "taking modulo 10: 9.0\n"
     ]
    }
   ],
   "source": [
    "# 7. Write a Python script to demonstrate the use of assignment operators.\n",
    "number=189\n",
    "print('the integer:',number)\n",
    "name='prateek'\n",
    "# number will changed after every operation\n",
    "print('the string:',name)\n",
    "number+=10\n",
    "print('adding in itself:',number)\n",
    "number-=10\n",
    "print('subtaract in itself:',number)\n",
    "number*=2\n",
    "print('multiply by 2 assing to itself:',number)\n",
    "number/=2\n",
    "print('divide by 2 assign to itself:',number)\n",
    "number%=10\n",
    "print('taking modulo 10:',number)\n"
   ]
  },
  {
   "cell_type": "code",
   "execution_count": 41,
   "id": "66e96f69-7530-4d63-94db-e2fb0fa448a9",
   "metadata": {},
   "outputs": [
    {
     "name": "stdout",
     "output_type": "stream",
     "text": [
      "enter the word: for\n"
     ]
    },
    {
     "name": "stdout",
     "output_type": "stream",
     "text": [
      "it is keyword. for\n"
     ]
    }
   ],
   "source": [
    "# 8. Write a program that checks if a given word is a Python keyword.\n",
    "import keyword\n",
    "word=input('enter the word:')\n",
    "if keyword.iskeyword(word):\n",
    "    print('it is keyword.',word)\n",
    "else:\n",
    "    print('it is not keyword.',word)\n"
   ]
  },
  {
   "cell_type": "code",
   "execution_count": 49,
   "id": "60c61f2b-2ebc-4fe3-86ac-7548f5ba8a27",
   "metadata": {},
   "outputs": [
    {
     "name": "stdout",
     "output_type": "stream",
     "text": [
      "ENTER THE NUMBER: 0\n"
     ]
    },
    {
     "name": "stdout",
     "output_type": "stream",
     "text": [
      "zero\n"
     ]
    }
   ],
   "source": [
    "# 9. Create a program that reads an integer from the user and prints whether it's positive,negative, or zero.\n",
    "number=int(input('ENTER THE NUMBER:'))\n",
    "\n",
    "print('positive' if number > 0 else 'negative' if number < 0 else 'zero')  # Output: positive\n"
   ]
  },
  {
   "cell_type": "code",
   "execution_count": 50,
   "id": "0078ee4e-9e5a-4457-a4ee-3aa032303b26",
   "metadata": {},
   "outputs": [
    {
     "name": "stdout",
     "output_type": "stream",
     "text": [
      "enter the number: 345\n"
     ]
    },
    {
     "name": "stdout",
     "output_type": "stream",
     "text": [
      "this is string_number: 345\n"
     ]
    }
   ],
   "source": [
    "# 10. Write a program that takes a number as input, converts it to a string, and displays it with a message.\n",
    "number=int(input('enter the number:'))\n",
    "str_number=str(number)\n",
    "print('this is string_number:',str_number)"
   ]
  },
  {
   "cell_type": "code",
   "execution_count": 51,
   "id": "c752b025-f226-43bd-9393-8eaa8b812b89",
   "metadata": {},
   "outputs": [
    {
     "name": "stdout",
     "output_type": "stream",
     "text": [
      "ENTER THE NUMBER: 78\n",
      "ENTER THE NUMBER: 390\n",
      "ENTER THE STRING: prateek\n"
     ]
    },
    {
     "name": "stdout",
     "output_type": "stream",
     "text": [
      "78,390.0,prateek,True\n"
     ]
    }
   ],
   "source": [
    "# 11. Write a program to demonstrate the usage of various data types in Python (int, float, bool, string).\n",
    "number=int(input('ENTER THE NUMBER:'))\n",
    "float_number=float(input('ENTER THE NUMBER:'))\n",
    "string=input('ENTER THE STRING:')\n",
    "boolean=True\n",
    "print(f'{number},{float_number},{string},{boolean}')"
   ]
  },
  {
   "cell_type": "code",
   "execution_count": 53,
   "id": "cb907a01-ab44-4e89-bb66-90653a19f646",
   "metadata": {},
   "outputs": [
    {
     "name": "stdout",
     "output_type": "stream",
     "text": [
      "ENTER THE FAVOURITE COLOR 1: r\n",
      "ENTER THE FAVOURITE COLOR 2: g\n",
      "ENTER THE FAVOURITE COLOR 3: b\n",
      "ENTER THE FAVOURITE COLOR 4: aurora\n",
      "ENTER THE FAVOURITE COLOR 5: white\n"
     ]
    },
    {
     "name": "stdout",
     "output_type": "stream",
     "text": [
      "['r', 'g', 'b', 'aurora', 'white']\n"
     ]
    }
   ],
   "source": [
    "# 12.Write a script that stores and prints a list of favorite colors.\n",
    "fav_color=[input(F'ENTER THE FAVOURITE COLOR {i+1}:') for i in range(5)]\n",
    "print(fav_color)"
   ]
  },
  {
   "cell_type": "code",
   "execution_count": 59,
   "id": "d5d1dcf9-2a47-4038-ac3d-6231f6abe06b",
   "metadata": {},
   "outputs": [
    {
     "name": "stdout",
     "output_type": "stream",
     "text": [
      "ENTER THE NUMBER 1:  1\n",
      "ENTER THE NUMBER 2:  2\n",
      "ENTER THE NUMBER 3:  3\n",
      "ENTER THE NUMBER 4:  4\n",
      "ENTER THE NUMBER 5:  5\n"
     ]
    },
    {
     "name": "stdout",
     "output_type": "stream",
     "text": [
      "15\n"
     ]
    }
   ],
   "source": [
    "# 13. Create a program that creates a tuple of 5 numbers and prints the sum of the numbers.\n",
    "from functools import reduce\n",
    "\n",
    "numbers = tuple(int(input(f\"ENTER THE NUMBER {i+1}: \")) for i in range(5))\n",
    "addition_of_tuple = reduce(lambda x, y: x + y, numbers)\n",
    "print(addition_of_tuple)\n"
   ]
  },
  {
   "cell_type": "code",
   "execution_count": 72,
   "id": "ebe0abe5-7bc4-4b0c-a9ad-3451cc3690c8",
   "metadata": {},
   "outputs": [
    {
     "name": "stdout",
     "output_type": "stream",
     "text": [
      "<class 'set'>\n",
      "<class 'list'>\n",
      "{'a', 'e', 'd', 'b', 'c'}\n",
      "['a', 'b', 'c', 'c', 'd', 'e', 'a']\n"
     ]
    }
   ],
   "source": [
    "# 14. Write a program to convert a list into a set and print the vresult.\n",
    "list_1 = ['a', 'b', 'c', 'c', 'd', 'e', 'a']\n",
    "set_1 = set(list_1)\n",
    "\n",
    "print(type(set_1))  # Type of set_1\n",
    "print(type(list_1))  # Type of list_1\n",
    "print(set_1, list_1, sep=\"\\n\")\n"
   ]
  },
  {
   "cell_type": "code",
   "execution_count": 19,
   "id": "05cab1f5-9ba3-4a00-82d4-937910063dba",
   "metadata": {},
   "outputs": [
    {
     "name": "stdout",
     "output_type": "stream",
     "text": [
      "[1, 2]\n",
      "1 2\n"
     ]
    }
   ],
   "source": [
    "# unpacing operator\n",
    "a = [1, 2]\n",
    "print(a)  # print as single list \n",
    "print(*a) # Expands to: print(1, 2)"
   ]
  },
  {
   "cell_type": "code",
   "execution_count": 22,
   "id": "5cd6f515-da5a-45f8-8eaf-61d1a5495637",
   "metadata": {},
   "outputs": [
    {
     "name": "stdout",
     "output_type": "stream",
     "text": [
      "Enter key-value pairs:  a 10 b 20 c 30 d 44 e 80\n"
     ]
    },
    {
     "name": "stdout",
     "output_type": "stream",
     "text": [
      "{'a': 10, 'b': 20, 'c': 30, 'd': 44, 'e': 80}\n"
     ]
    }
   ],
   "source": [
    "# 15. Create a dictionary to store student names as keys and their scores as values. Print the dictionary.\n",
    "result = {str(k): int(v) for k, v in zip(*[iter(input(\"Enter key-value pairs: \").split())]*2)}\n",
    "print(result )\n",
    "# The code takes a single input of space-separated key-value pairs, splits them into a list, and uses zip with two iterators over \n",
    "# the list to group alternating elements into key-value pairs, which are then converted to integers and stored in a dictionary."
   ]
  },
  {
   "cell_type": "code",
   "execution_count": 24,
   "id": "d3d2fc4e-c15f-4638-9e16-eea0b80ce193",
   "metadata": {},
   "outputs": [
    {
     "name": "stdout",
     "output_type": "stream",
     "text": [
      "(1, 2, 3, 4, 5)\n"
     ]
    }
   ],
   "source": [
    "# 16. Write a program that demonstrates the immutability of tuples.\n",
    "tuple1=(1,2,3,4,5)\n",
    "print(tuple1)\n",
    "# tuple1[1]=20 # this will through an error."
   ]
  },
  {
   "cell_type": "code",
   "execution_count": 26,
   "id": "3b1b22ac-04cf-4f7d-b182-1f437cc24032",
   "metadata": {},
   "outputs": [
    {
     "name": "stdout",
     "output_type": "stream",
     "text": [
      "[0, 1, 2, 3, 4]\n",
      "[0, 1, 2, 3, 4]\n",
      "[0, 2, 4, 6, 8]\n"
     ]
    }
   ],
   "source": [
    "# 17. Create a program that adds two lists element-wise and stores the result in a new list.\n",
    "list_1=[x for x in range(5)]\n",
    "list_2=[y for y in range(5)]\n",
    "add_list=list(map(lambda x,y:x+y,list_1,list_2))\n",
    "print(list_1,list_2,add_list,sep=\"\\n\")"
   ]
  },
  {
   "cell_type": "code",
   "execution_count": 30,
   "id": "5c5dd6ea-ae83-40fa-8601-ce7168390f13",
   "metadata": {},
   "outputs": [
    {
     "name": "stdout",
     "output_type": "stream",
     "text": [
      "Enter a set item0:  1\n",
      "Enter a set item1:  2\n",
      "Enter a set item2:  3\n",
      "Enter a set item3:  4\n",
      "Enter a set item4:  5\n",
      "Enter a set item5:  6\n",
      "Enter a set item6:  7\n"
     ]
    },
    {
     "name": "stdout",
     "output_type": "stream",
     "text": [
      "{1, 2, 3, 4, 5, 9}\n",
      "{1, 2, 3, 4, 5, 6, 7}\n",
      "{1, 2, 3, 4, 5, 6, 7, 9}\n",
      "{1, 2, 3, 4, 5}\n"
     ]
    }
   ],
   "source": [
    "# 18. Write a program that accepts user input as a set and performs union and intersection with a predefined set.\n",
    "predefined_set = {1, 2, 3, 4, 5, 9}\n",
    "\n",
    "# Taking input from the user and creating a set\n",
    "user_set = set(int(input(f'Enter a set item{i}: ')) for i in range(7))\n",
    "\n",
    "# Union and Intersection\n",
    "union_set = predefined_set | user_set  # Union (all unique elements from both sets)\n",
    "intersection_set = predefined_set & user_set  # Intersection (common elements)\n",
    "\n",
    "# Printing the results\n",
    "print(predefined_set)\n",
    "print(user_set)\n",
    "print(union_set)\n",
    "print(intersection_set)\n"
   ]
  },
  {
   "cell_type": "code",
   "execution_count": 33,
   "id": "a2e7f043-1421-451b-a42e-4043810f16eb",
   "metadata": {},
   "outputs": [
    {
     "name": "stdout",
     "output_type": "stream",
     "text": [
      "ENTER THE STRING: my name is ram\n"
     ]
    },
    {
     "name": "stdout",
     "output_type": "stream",
     "text": [
      "m\n",
      "y\n",
      " \n",
      "n\n",
      "a\n",
      "m\n",
      "e\n",
      " \n",
      "i\n",
      "s\n",
      " \n",
      "r\n",
      "a\n",
      "m\n"
     ]
    }
   ],
   "source": [
    "# 19. Write a Python program to take a string as input and print each character on a new line.\n",
    "line=input('ENTER THE STRING:')\n",
    "for i in line:\n",
    "    print(i)"
   ]
  },
  {
   "cell_type": "code",
   "execution_count": 34,
   "id": "4f3bbdca-0300-4aa7-80d5-82c57aca23ad",
   "metadata": {},
   "outputs": [
    {
     "name": "stdout",
     "output_type": "stream",
     "text": [
      "keetarp\n"
     ]
    }
   ],
   "source": [
    "# 20. Create a program that uses string slicing to reverse a given string.\n",
    "given_string='prateek'\n",
    "print(given_string[::-1])"
   ]
  },
  {
   "cell_type": "code",
   "execution_count": 35,
   "id": "ee2449c1-fbed-4e41-8ce7-c36a088ad1d7",
   "metadata": {},
   "outputs": [
    {
     "name": "stdout",
     "output_type": "stream",
     "text": [
      "enter the sentence: Hi How Are you\n"
     ]
    },
    {
     "name": "stdout",
     "output_type": "stream",
     "text": [
      "HI HOW ARE YOU\n"
     ]
    }
   ],
   "source": [
    "# 21. Write a script that takes a sentence as input and prints the sentence in all uppercase letters.\n",
    "sentence =input('enter the sentence:')\n",
    "print(sentence.upper())"
   ]
  },
  {
   "cell_type": "code",
   "execution_count": 39,
   "id": "d31760a4-1921-4905-ad87-e1f9f9362eaf",
   "metadata": {},
   "outputs": [
    {
     "name": "stdout",
     "output_type": "stream",
     "text": [
      "Enter the sentence:  Hi How Are you\n"
     ]
    },
    {
     "name": "stdout",
     "output_type": "stream",
     "text": [
      "i\n",
      "o\n",
      "A\n",
      "e\n",
      "o\n",
      "u\n",
      "Total vowels: 6\n"
     ]
    }
   ],
   "source": [
    "# 22. Write a program that counts the number of vowels in a given string.\n",
    "sentence = input('Enter the sentence: ')\n",
    "vowels = ('a', 'e', 'i', 'o', 'u', 'A', 'E', 'I', 'O', 'U')\n",
    "count = 0  # Initialize count outside the loop\n",
    "\n",
    "for i in sentence:\n",
    "    if i in vowels:  # Check if the character is a vowel\n",
    "        count += 1  # Increment count for each vowel found\n",
    "        print(i)  # Print the vowel\n",
    "\n",
    "print(\"Total vowels:\", count)  # Print the total count of vowels\n"
   ]
  },
  {
   "cell_type": "code",
   "execution_count": 40,
   "id": "db269808-745a-4340-9b56-d4cbfa6abb14",
   "metadata": {},
   "outputs": [
    {
     "name": "stdout",
     "output_type": "stream",
     "text": [
      "prteekgupta\n"
     ]
    }
   ],
   "source": [
    "# 23. Create a program that concatenates two strings and prints the result.\n",
    "string_1='prteek'\n",
    "string_2='gupta'\n",
    "print(string_1 + string_2)"
   ]
  },
  {
   "cell_type": "code",
   "execution_count": 43,
   "id": "5c8baafa-e101-4c1d-9535-f75444b5742f",
   "metadata": {},
   "outputs": [
    {
     "name": "stdout",
     "output_type": "stream",
     "text": [
      "Max number: 7654\n",
      "Min number: 1\n"
     ]
    }
   ],
   "source": [
    "# 24. Write a program to create a list of integers, then print the maximum and minimum values.\n",
    "numbers=[1,23,45,65,43,55,3,34,32,45,44,65,775,434,34,4455,6,7654,3234,54,3,4,43,4,33,3]\n",
    "max_number=max(numbers)\n",
    "min_number=min(numbers)\n",
    "print(\"Max number:\", max_number)\n",
    "print(\"Min number:\", min_number)"
   ]
  },
  {
   "cell_type": "code",
   "execution_count": 44,
   "id": "0a9e8d17-e6c1-4fe4-958a-bdeb1826c07c",
   "metadata": {},
   "outputs": [
    {
     "name": "stdout",
     "output_type": "stream",
     "text": [
      "Max number: 7654\n",
      "Min number: 1\n"
     ]
    }
   ],
   "source": [
    "numbers = [1, 23, 45, 65, 43, 55, 3, 34, 32, 45, 44, 65, 775, 434, 34, 4455, 6, 7654, 3234, 54, 3, 4, 43, 4, 33, 3]\n",
    "\n",
    "# Initialize max and min with the first number in the list\n",
    "max_number = numbers[0]\n",
    "min_number = numbers[0]\n",
    "\n",
    "# Loop through the list to find max and min\n",
    "for i in numbers:\n",
    "    if i > max_number:\n",
    "        max_number = i  # Update max if current number is greater\n",
    "    if i < min_number:\n",
    "        min_number = i  # Update min if current number is smaller\n",
    "\n",
    "print(\"Max number:\", max_number)\n",
    "print(\"Min number:\", min_number)\n"
   ]
  },
  {
   "cell_type": "code",
   "execution_count": 52,
   "id": "b24a0137-ce8d-4ee8-9690-b3ab83d8c0ec",
   "metadata": {},
   "outputs": [
    {
     "name": "stdout",
     "output_type": "stream",
     "text": [
      "['A', 'G', 'P', 'V', 'g', 'p', 'r', 'v']\n",
      "['A', 'G', 'P', 'V']\n"
     ]
    }
   ],
   "source": [
    "# 25. Write a script to join two lists and print the combined list.\n",
    "list_1=['p','r','v','g']\n",
    "list_2=['P','V','A','G']\n",
    "combined_list=sorted(list_1+list_2) \n",
    "list_2.sort()\n",
    "print(combined_list)\n",
    "print(list_2)\n",
    "# sorted() returns a new sorted list, while sort() modifies the list in place and doesn't return anything (hence, no assignment needed)."
   ]
  },
  {
   "cell_type": "code",
   "execution_count": 63,
   "id": "60ded69f-70d5-4f5a-ac8f-1af946a85193",
   "metadata": {},
   "outputs": [
    {
     "name": "stdout",
     "output_type": "stream",
     "text": [
      "['p', 'r', 't', 'e', 'e', 'k', 'p', 'r', 't', 'e', 'e', 'k', 'p', 'r', 't', 'e', 'e', 'k']\n"
     ]
    }
   ],
   "source": [
    "# 26. Create a program to replicate a list three times and print the result.\n",
    "list_1='p r t e e k'.split()\n",
    "print(list_1*3)"
   ]
  },
  {
   "cell_type": "code",
   "execution_count": 70,
   "id": "f74ed870-24e5-4072-8b27-aed40e972ad1",
   "metadata": {},
   "outputs": [
    {
     "name": "stdout",
     "output_type": "stream",
     "text": [
      "EVEN NUMBERS: [0, 2, 4, 6, 8]\n"
     ]
    }
   ],
   "source": [
    "# 27. Write a program that takes a list of numbers as input and prints only the even numbers.\n",
    "numbers = [number for number in range(10)]\n",
    "\n",
    "# Generate even numbers and convert to list\n",
    "even_numbers = [even_number for even_number in numbers if even_number % 2 == 0]\n",
    "\n",
    "print(f\"EVEN NUMBERS: {even_numbers}\")\n"
   ]
  },
  {
   "cell_type": "code",
   "execution_count": 80,
   "id": "1117f192-69b2-4aa4-839d-928e85e6f36e",
   "metadata": {},
   "outputs": [
    {
     "name": "stdout",
     "output_type": "stream",
     "text": [
      "Enter 0  strings :  j\n",
      "Enter 1  strings :  h\n",
      "Enter 2  strings :  g\n",
      "Enter 3  strings :  l\n",
      "Enter 4  strings :  p\n"
     ]
    },
    {
     "name": "stdout",
     "output_type": "stream",
     "text": [
      "The tuple is: ('j', 'h', 'g', 'l', 'p')\n",
      "The second element is: h\n"
     ]
    }
   ],
   "source": [
    "# 28. Write a program that creates a tuple of 5 strings and accesses the second element.\n",
    "# Create a tuple of 5 strings\n",
    "strings= tuple(input(f\"Enter {i}  strings : \") for i in range(5))\n",
    "\n",
    "# Access the second element\n",
    "print(f\"The tuple is: {strings}\")\n",
    "print(f\"The second element is: {strings[1]}\")\n"
   ]
  },
  {
   "cell_type": "code",
   "execution_count": 81,
   "id": "177abe88-da4f-4d26-9b76-9321f1b20187",
   "metadata": {},
   "outputs": [
    {
     "name": "stdout",
     "output_type": "stream",
     "text": [
      "(1, 2, 3, 4, 5, 11, 222, 33, 44, 55, 32)\n"
     ]
    }
   ],
   "source": [
    "# 29. Create a program that joins two tuples and prints the result.\n",
    "tuple_1=(1,2,3,4,5)\n",
    "tuple_2=(11,222,33,44,55,32)\n",
    "print(tuple_1+tuple_2)"
   ]
  },
  {
   "cell_type": "code",
   "execution_count": 82,
   "id": "7829e29c-4b6a-45f3-b34a-2d23268995f5",
   "metadata": {},
   "outputs": [
    {
     "name": "stdout",
     "output_type": "stream",
     "text": [
      "(1, 2, 3, 4, 5, 1, 2, 3, 4, 5)\n"
     ]
    }
   ],
   "source": [
    "# 30. Write a script that replicates a tuple twice and prints the result.\n",
    "tuple_1=(1,2,3,4,5)\n",
    "result=(tuple_1*2)\n",
    "print(result)"
   ]
  },
  {
   "cell_type": "code",
   "execution_count": 93,
   "id": "8f124fc6-03be-4a1d-84e6-032cfc51edcc",
   "metadata": {},
   "outputs": [
    {
     "name": "stdout",
     "output_type": "stream",
     "text": [
      "Enter key-value pairs:  a 1 b 2 c 3\n"
     ]
    },
    {
     "name": "stdout",
     "output_type": "stream",
     "text": [
      "{'a': 1, 'b': 2, 'c': 3}\n",
      "dict_keys(['a', 'b', 'c'])\n"
     ]
    }
   ],
   "source": [
    "# 31. Write a program that creates a dictionary with three key-value pairs and prints all the keys.\n",
    "dictionary={str(k): int(v) for k, v in zip(*[iter(input(\"Enter key-value pairs: \").split())]*2)}\n",
    "print(dictionary,dictionary.keys(),sep=\"\\n\")"
   ]
  },
  {
   "cell_type": "code",
   "execution_count": 3,
   "id": "89425e42-eb34-4115-adf6-df06494471f3",
   "metadata": {},
   "outputs": [
    {
     "name": "stdout",
     "output_type": "stream",
     "text": [
      "enter the numbers1: 67\n",
      "enter the numbers2: 88\n",
      "enter the numbers3: 88\n",
      "enter the numbers4: 97\n",
      "enter the numbers5: 56\n"
     ]
    },
    {
     "name": "stdout",
     "output_type": "stream",
     "text": [
      "{88, 97, 56, 67}\n"
     ]
    }
   ],
   "source": [
    "# 32. Create a Python program that creates a set of numbers and prints it.\n",
    "number_set=set(int(input(f'enter the numbers{i+1}:')) for i in range(5))\n",
    "print(number_set)"
   ]
  },
  {
   "cell_type": "code",
   "execution_count": 6,
   "id": "416be065-8293-46be-b1f5-74b785e1c6bf",
   "metadata": {},
   "outputs": [
    {
     "name": "stdout",
     "output_type": "stream",
     "text": [
      "enter here 1: 2\n",
      "enter here 2: 2\n",
      "enter here 3: 4\n",
      "enter here 4: 3\n",
      "enter here 5: 1\n"
     ]
    },
    {
     "name": "stdout",
     "output_type": "stream",
     "text": [
      "frozenset({'2', '1', '3', '4'})\n"
     ]
    }
   ],
   "source": [
    "# 33. Write a program to convert a list into a frozenset and print it.\n",
    "lsit_1=list(input(f'enter here {i+1}:') for i in range(5))\n",
    "print(frozenset(lsit_1))"
   ]
  },
  {
   "cell_type": "code",
   "execution_count": 7,
   "id": "a3098bc3-d576-41ad-bcb9-f32f55e32b1d",
   "metadata": {},
   "outputs": [
    {
     "name": "stdout",
     "output_type": "stream",
     "text": [
      "{2, 3, 4}\n",
      "{1, 2, 3, 4, 5, 33, 11, 44, 22}\n"
     ]
    }
   ],
   "source": [
    "# 34. Write a program to demonstrate the use of a set operation (union or intersection) with two sets.\n",
    "set_1={1,2,3,4,5,4,3,2}\n",
    "set_2={11,2,3,4,11,22,33,44}\n",
    "common_items=set_1 & set_2\n",
    "all_items=set_1|set_2\n",
    "print(common_items,all_items,sep='\\n')"
   ]
  },
  {
   "cell_type": "code",
   "execution_count": 9,
   "id": "4d34847c-7630-490b-9ff2-6cdc3a49c205",
   "metadata": {},
   "outputs": [
    {
     "name": "stdout",
     "output_type": "stream",
     "text": [
      "enter the number: 555\n"
     ]
    },
    {
     "name": "stdout",
     "output_type": "stream",
     "text": [
      "odd number: 555\n"
     ]
    }
   ],
   "source": [
    "# 35. Write a program that uses an `if-else` statement to check if a given number is even or odd.\n",
    "number=int(input('enter the number:'))\n",
    "if number%2==0:\n",
    "    print('even number:',number)\n",
    "else:\n",
    "    print('odd number:',number)"
   ]
  },
  {
   "cell_type": "code",
   "execution_count": 18,
   "id": "52e1c39d-729a-467a-a59a-7063e15a2360",
   "metadata": {},
   "outputs": [
    {
     "name": "stdout",
     "output_type": "stream",
     "text": [
      "  name  age  score\n",
      "0    a   23    399\n",
      "1    b   34    333\n",
      "2    c   32    222\n",
      "3    d   22    342\n",
      "4    e   33    324\n"
     ]
    },
    {
     "data": {
      "text/html": [
       "<div>\n",
       "<style scoped>\n",
       "    .dataframe tbody tr th:only-of-type {\n",
       "        vertical-align: middle;\n",
       "    }\n",
       "\n",
       "    .dataframe tbody tr th {\n",
       "        vertical-align: top;\n",
       "    }\n",
       "\n",
       "    .dataframe thead th {\n",
       "        text-align: right;\n",
       "    }\n",
       "</style>\n",
       "<table border=\"1\" class=\"dataframe\">\n",
       "  <thead>\n",
       "    <tr style=\"text-align: right;\">\n",
       "      <th></th>\n",
       "      <th>name</th>\n",
       "      <th>age</th>\n",
       "      <th>score</th>\n",
       "      <th>new</th>\n",
       "    </tr>\n",
       "  </thead>\n",
       "  <tbody>\n",
       "    <tr>\n",
       "      <th>0</th>\n",
       "      <td>a</td>\n",
       "      <td>23</td>\n",
       "      <td>399</td>\n",
       "      <td>1</td>\n",
       "    </tr>\n",
       "    <tr>\n",
       "      <th>1</th>\n",
       "      <td>b</td>\n",
       "      <td>34</td>\n",
       "      <td>333</td>\n",
       "      <td>2</td>\n",
       "    </tr>\n",
       "    <tr>\n",
       "      <th>2</th>\n",
       "      <td>c</td>\n",
       "      <td>32</td>\n",
       "      <td>222</td>\n",
       "      <td>3</td>\n",
       "    </tr>\n",
       "    <tr>\n",
       "      <th>3</th>\n",
       "      <td>d</td>\n",
       "      <td>22</td>\n",
       "      <td>342</td>\n",
       "      <td>4</td>\n",
       "    </tr>\n",
       "    <tr>\n",
       "      <th>4</th>\n",
       "      <td>e</td>\n",
       "      <td>33</td>\n",
       "      <td>324</td>\n",
       "      <td>5</td>\n",
       "    </tr>\n",
       "  </tbody>\n",
       "</table>\n",
       "</div>"
      ],
      "text/plain": [
       "  name  age  score  new\n",
       "0    a   23    399    1\n",
       "1    b   34    333    2\n",
       "2    c   32    222    3\n",
       "3    d   22    342    4\n",
       "4    e   33    324    5"
      ]
     },
     "execution_count": 18,
     "metadata": {},
     "output_type": "execute_result"
    }
   ],
   "source": [
    "# 36. Create a Pandas DataFrame with columns \"Name\", \"Age\", and \"Score\" using sample data. Display the first 5 rows.\n",
    "import pandas as pd\n",
    "dict_1={\n",
    "        'name':['a','b','c','d','e'],\n",
    "        'age':[23,34,32,22,33],\n",
    "        'score':[399,333,222,342,324]\n",
    "}\n",
    "dataframe=pd.DataFrame(dict_1)\n",
    "print(dataframe)\n",
    "dataframe['new']=[1,2,3,4,5]\n",
    "dataframe"
   ]
  },
  {
   "cell_type": "code",
   "execution_count": 22,
   "id": "9e922f7d-34b4-4e37-92c0-d347280b4694",
   "metadata": {},
   "outputs": [
    {
     "name": "stdout",
     "output_type": "stream",
     "text": [
      "    age  gender   review education purchased\n",
      "0    30  Female  Average    School        No\n",
      "1    68  Female     Poor        UG        No\n",
      "2    70  Female     Good        PG        No\n",
      "3    72  Female     Good        PG        No\n",
      "4    16  Female  Average        UG        No\n",
      "5    31  Female  Average    School       Yes\n",
      "6    18    Male     Good    School        No\n",
      "7    60  Female     Poor    School       Yes\n",
      "8    65  Female  Average        UG        No\n",
      "9    74    Male     Good        UG       Yes\n",
      "10   98  Female     Good        UG       Yes\n",
      "11   74    Male     Good        UG       Yes\n",
      "12   51    Male     Poor    School        No\n",
      "13   57  Female  Average    School        No\n",
      "14   15    Male     Poor        PG       Yes\n",
      "15   75    Male     Poor        UG        No\n",
      "16   59    Male     Poor        UG       Yes\n",
      "17   22  Female     Poor        UG       Yes\n",
      "18   19    Male     Good    School        No\n",
      "19   97    Male     Poor        PG       Yes\n",
      "20   57  Female  Average    School       Yes\n",
      "21   32    Male  Average        PG        No\n",
      "22   18  Female     Poor        PG       Yes\n",
      "23   96  Female     Good    School        No\n",
      "24   16  Female  Average        PG       Yes\n",
      "25   57  Female     Good    School        No\n",
      "26   53  Female     Poor        PG        No\n",
      "27   69  Female     Poor        PG        No\n",
      "28   48    Male     Poor    School        No\n",
      "29   83  Female  Average        UG       Yes\n",
      "30   73    Male  Average        UG        No\n",
      "31   22  Female     Poor    School       Yes\n",
      "32   92    Male  Average        UG       Yes\n",
      "33   89  Female     Good        PG       Yes\n",
      "34   86    Male  Average    School        No\n",
      "35   74    Male     Poor    School       Yes\n",
      "36   34  Female     Good        UG       Yes\n",
      "37   94    Male  Average        PG       Yes\n",
      "38   45  Female     Good    School        No\n",
      "39   76    Male     Poor        PG        No\n",
      "40   39    Male     Good    School        No\n",
      "41   23    Male     Good        PG       Yes\n",
      "42   30  Female     Good        PG       Yes\n",
      "43   27    Male     Poor        PG        No\n",
      "44   77  Female  Average        UG        No\n",
      "45   61    Male     Poor        PG       Yes\n",
      "46   64  Female     Poor        PG        No\n",
      "47   38  Female     Good        PG       Yes\n",
      "48   39  Female     Good        UG       Yes\n",
      "49   25  Female     Good        UG        No\n"
     ]
    },
    {
     "data": {
      "text/html": [
       "<div>\n",
       "<style scoped>\n",
       "    .dataframe tbody tr th:only-of-type {\n",
       "        vertical-align: middle;\n",
       "    }\n",
       "\n",
       "    .dataframe tbody tr th {\n",
       "        vertical-align: top;\n",
       "    }\n",
       "\n",
       "    .dataframe thead th {\n",
       "        text-align: right;\n",
       "    }\n",
       "</style>\n",
       "<table border=\"1\" class=\"dataframe\">\n",
       "  <thead>\n",
       "    <tr style=\"text-align: right;\">\n",
       "      <th></th>\n",
       "      <th>age</th>\n",
       "    </tr>\n",
       "  </thead>\n",
       "  <tbody>\n",
       "    <tr>\n",
       "      <th>count</th>\n",
       "      <td>50.000000</td>\n",
       "    </tr>\n",
       "    <tr>\n",
       "      <th>mean</th>\n",
       "      <td>54.160000</td>\n",
       "    </tr>\n",
       "    <tr>\n",
       "      <th>std</th>\n",
       "      <td>25.658161</td>\n",
       "    </tr>\n",
       "    <tr>\n",
       "      <th>min</th>\n",
       "      <td>15.000000</td>\n",
       "    </tr>\n",
       "    <tr>\n",
       "      <th>25%</th>\n",
       "      <td>30.250000</td>\n",
       "    </tr>\n",
       "    <tr>\n",
       "      <th>50%</th>\n",
       "      <td>57.000000</td>\n",
       "    </tr>\n",
       "    <tr>\n",
       "      <th>75%</th>\n",
       "      <td>74.000000</td>\n",
       "    </tr>\n",
       "    <tr>\n",
       "      <th>max</th>\n",
       "      <td>98.000000</td>\n",
       "    </tr>\n",
       "  </tbody>\n",
       "</table>\n",
       "</div>"
      ],
      "text/plain": [
       "             age\n",
       "count  50.000000\n",
       "mean   54.160000\n",
       "std    25.658161\n",
       "min    15.000000\n",
       "25%    30.250000\n",
       "50%    57.000000\n",
       "75%    74.000000\n",
       "max    98.000000"
      ]
     },
     "execution_count": 22,
     "metadata": {},
     "output_type": "execute_result"
    }
   ],
   "source": [
    "# 37. Load a CSV file into a Pandas DataFrame and print the summary statistics of its numerical columns.\n",
    "dataframe=pd.read_csv('customer.csv')\n",
    "print(dataframe)\n",
    "dataframe.describe()\n",
    "\n"
   ]
  },
  {
   "cell_type": "code",
   "execution_count": 32,
   "id": "692aec7c-6543-4b43-b8eb-45f20412ddc3",
   "metadata": {},
   "outputs": [
    {
     "name": "stdout",
     "output_type": "stream",
     "text": [
      "0     30\n",
      "1     68\n",
      "2     70\n",
      "3     72\n",
      "5     31\n",
      "7     60\n",
      "8     65\n",
      "9     74\n",
      "10    98\n",
      "11    74\n",
      "12    51\n",
      "13    57\n",
      "15    75\n",
      "16    59\n",
      "17    22\n",
      "19    97\n",
      "20    57\n",
      "21    32\n",
      "23    96\n",
      "25    57\n",
      "26    53\n",
      "27    69\n",
      "28    48\n",
      "29    83\n",
      "30    73\n",
      "31    22\n",
      "32    92\n",
      "33    89\n",
      "34    86\n",
      "35    74\n",
      "36    34\n",
      "37    94\n",
      "38    45\n",
      "39    76\n",
      "40    39\n",
      "41    23\n",
      "42    30\n",
      "43    27\n",
      "44    77\n",
      "45    61\n",
      "46    64\n",
      "47    38\n",
      "48    39\n",
      "49    25\n",
      "Name: age, dtype: int64\n",
      "    age  gender   review education purchased\n",
      "0    30  Female  Average    School        No\n",
      "1    68  Female     Poor        UG        No\n",
      "2    70  Female     Good        PG        No\n",
      "3    72  Female     Good        PG        No\n",
      "5    31  Female  Average    School       Yes\n",
      "7    60  Female     Poor    School       Yes\n",
      "8    65  Female  Average        UG        No\n",
      "9    74    Male     Good        UG       Yes\n",
      "10   98  Female     Good        UG       Yes\n",
      "11   74    Male     Good        UG       Yes\n",
      "12   51    Male     Poor    School        No\n",
      "13   57  Female  Average    School        No\n",
      "15   75    Male     Poor        UG        No\n",
      "16   59    Male     Poor        UG       Yes\n",
      "17   22  Female     Poor        UG       Yes\n",
      "19   97    Male     Poor        PG       Yes\n",
      "20   57  Female  Average    School       Yes\n",
      "21   32    Male  Average        PG        No\n",
      "23   96  Female     Good    School        No\n",
      "25   57  Female     Good    School        No\n",
      "26   53  Female     Poor        PG        No\n",
      "27   69  Female     Poor        PG        No\n",
      "28   48    Male     Poor    School        No\n",
      "29   83  Female  Average        UG       Yes\n",
      "30   73    Male  Average        UG        No\n",
      "31   22  Female     Poor    School       Yes\n",
      "32   92    Male  Average        UG       Yes\n",
      "33   89  Female     Good        PG       Yes\n",
      "34   86    Male  Average    School        No\n",
      "35   74    Male     Poor    School       Yes\n",
      "36   34  Female     Good        UG       Yes\n",
      "37   94    Male  Average        PG       Yes\n",
      "38   45  Female     Good    School        No\n",
      "39   76    Male     Poor        PG        No\n",
      "40   39    Male     Good    School        No\n",
      "41   23    Male     Good        PG       Yes\n",
      "42   30  Female     Good        PG       Yes\n",
      "43   27    Male     Poor        PG        No\n",
      "44   77  Female  Average        UG        No\n",
      "45   61    Male     Poor        PG       Yes\n",
      "46   64  Female     Poor        PG        No\n",
      "47   38  Female     Good        PG       Yes\n",
      "48   39  Female     Good        UG       Yes\n",
      "49   25  Female     Good        UG        No\n"
     ]
    }
   ],
   "source": [
    "# 38. Write a program that filters rows in a DataFrame based on a specific condition (e.g., all rows where Age > 20).\n",
    "# Filter the DataFrame to get ages greater than 20\n",
    "ages_greater_than_20 = dataframe[dataframe['age'] > 20]['age']\n",
    "print(ages_greater_than_20)\n",
    "\n",
    "# Alternatively, using dot notation\n",
    "print(dataframe[dataframe.age > 20])"
   ]
  },
  {
   "cell_type": "code",
   "execution_count": 36,
   "id": "9425dd54-f940-45ba-b8b3-71d380388a27",
   "metadata": {},
   "outputs": [
    {
     "name": "stdout",
     "output_type": "stream",
     "text": [
      "Original Array:\n",
      "[[71 37 17]\n",
      " [77 82 19]\n",
      " [93 97 29]]\n",
      "\n",
      "Transpose of the Array:\n",
      "[[71 77 93]\n",
      " [37 82 97]\n",
      " [17 19 29]]\n"
     ]
    }
   ],
   "source": [
    "# 39. Create a 3x3 NumPy array with random integers and calculate its transpose.\n",
    "import numpy as np\n",
    "import random \n",
    "\n",
    "\n",
    "# Create a 3x3 NumPy array with random integers\n",
    "array = np.random.randint(1, 101, size=(3, 3))  # Random integers between 1 and 100\n",
    "\n",
    "# Calculate the transpose of the array\n",
    "transpose_array = array.T\n",
    "\n",
    "print(\"Original Array:\")\n",
    "print(array)\n",
    "print(\"\\nTranspose of the Array:\")\n",
    "print(transpose_array)"
   ]
  },
  {
   "cell_type": "code",
   "execution_count": 38,
   "id": "1af3ac8d-f85a-4fc7-b051-d47908d979c4",
   "metadata": {},
   "outputs": [
    {
     "name": "stdout",
     "output_type": "stream",
     "text": [
      "Modified Array:\n",
      "[-1  1 -1  3 -1  5 -1  7 -1  9 -1]\n"
     ]
    }
   ],
   "source": [
    "# 40. Write a program to create a 1D NumPy array of values from 0 to 10, then replace all even values with -1.\n",
    "\n",
    "# Create a 1D NumPy array of values from 0 to 10\n",
    "array = np.array([n for n in range(11)])\n",
    "\n",
    "# Replace all even values with -1\n",
    "array[array % 2 == 0] = -1\n",
    "\n",
    "print(\"Modified Array:\")\n",
    "print(array)\n"
   ]
  },
  {
   "cell_type": "code",
   "execution_count": 58,
   "id": "26caeb16-c02a-4cc5-aee2-74c202922fc1",
   "metadata": {},
   "outputs": [
    {
     "name": "stdout",
     "output_type": "stream",
     "text": [
      " 1\n",
      " 2\n",
      " 3\n",
      " 4\n",
      " 5\n",
      " 6\n",
      " 7\n",
      " 8\n",
      " 9\n",
      " 10\n"
     ]
    },
    {
     "name": "stdout",
     "output_type": "stream",
     "text": [
      "[ 1  2  3  4  5  6  7  8  9 10]\n",
      "5.5\n",
      "5.5\n",
      "8.25\n"
     ]
    }
   ],
   "source": [
    "# 41. Using a NumPy array, calculate the mean, median, and standard deviation of the values.\n",
    "array=np.array([int(input()) for i in range(10)])\n",
    "array_mean=array.mean()\n",
    "array_median=np.median(array)\n",
    "array_std_deviation=array.var()\n",
    "print(array)\n",
    "print(array_mean)\n",
    "print(array_median)\n",
    "print(array_std_deviation)"
   ]
  },
  {
   "cell_type": "code",
   "execution_count": 62,
   "id": "146dd129-e8c3-4472-9d1d-125906fa8900",
   "metadata": {},
   "outputs": [
    {
     "name": "stdout",
     "output_type": "stream",
     "text": [
      "Area of the rectangle: 8\n"
     ]
    }
   ],
   "source": [
    "# 42. Create a Python class called Rectangle with attributes for length and width, and a method to calculate the area of the rectangle.\n",
    "class Rectangle:\n",
    "    def __init__(self, length, width):\n",
    "        self.length = length\n",
    "        self.width = width\n",
    "\n",
    "    def area(self):\n",
    "        return self.length * self.width\n",
    "\n",
    "# Create an instance of Rectangle\n",
    "obj_rect = Rectangle(2, 4)\n",
    "\n",
    "# Call the area method\n",
    "print(\"Area of the rectangle:\", obj_rect.area())\n"
   ]
  },
  {
   "cell_type": "code",
   "execution_count": 1,
   "id": "3933d082-d86c-40fc-8b7d-f8b00ba99a5d",
   "metadata": {},
   "outputs": [
    {
     "name": "stdout",
     "output_type": "stream",
     "text": [
      "Current balance: $100\n",
      "Deposited: $50\n",
      "Current balance: $150\n",
      "Withdrawn: $30\n",
      "Current balance: $120\n",
      "Insufficient balance!\n"
     ]
    }
   ],
   "source": [
    "# 43. Write a Python class BankAccount with methods to deposit, withdraw, and check the balance. Ensure that withdrawals cannot \n",
    "# exceed the balance.\n",
    "class BankAccount:\n",
    "    def __init__(self, initial_balance=0):\n",
    "        self.balance = initial_balance\n",
    "\n",
    "    # Deposit method to add money to the account\n",
    "    def deposit(self, amount):\n",
    "        if amount > 0:\n",
    "            self.balance += amount\n",
    "            print(f\"Deposited: ${amount}\")\n",
    "        else:\n",
    "            print(\"Deposit amount must be greater than 0.\")\n",
    "\n",
    "    # Withdraw method to withdraw money from the account\n",
    "    def withdraw(self, amount):\n",
    "        if amount <= 0:\n",
    "            print(\"Withdrawal amount must be greater than 0.\")\n",
    "        elif amount > self.balance:\n",
    "            print(\"Insufficient balance!\")\n",
    "        else:\n",
    "            self.balance -= amount\n",
    "            print(f\"Withdrawn: ${amount}\")\n",
    "\n",
    "    # Method to check the balance\n",
    "    def check_balance(self):\n",
    "        print(f\"Current balance: ${self.balance}\")\n",
    "\n",
    "# Example usage:\n",
    "account = BankAccount(100)  # Initializing with a balance of $100\n",
    "\n",
    "account.check_balance()  # Check current balance\n",
    "\n",
    "account.deposit(50)  # Deposit $50\n",
    "account.check_balance()  # Check updated balance\n",
    "\n",
    "account.withdraw(30)  # Withdraw $30\n",
    "account.check_balance()  # Check updated balance\n",
    "\n",
    "account.withdraw(150)  # Trying to withdraw more than available balance"
   ]
  },
  {
   "cell_type": "code",
   "execution_count": 2,
   "id": "9207220b-ef57-4ca2-833c-686ad2f9982f",
   "metadata": {},
   "outputs": [
    {
     "name": "stdout",
     "output_type": "stream",
     "text": [
      "Alice received a raise of $2000. New salary: $52000\n",
      "Bob received a raise of $3000. New salary: $73000\n",
      "As a manager of Sales, Bob also gets a 5% raise. New salary: $76650.0\n"
     ]
    }
   ],
   "source": [
    "# 44. Create an Employee class with name and salary attributes, and a method to give a raise.Demonstrate how to use inheritance\n",
    "# by creating a Manager subclass.\n",
    "# Base class: Employee\n",
    "class Employee:\n",
    "    def __init__(self, name, salary):\n",
    "        self.name = name\n",
    "        self.salary = salary\n",
    "\n",
    "    # Method to give a raise to the employee\n",
    "    def give_raise(self, amount):\n",
    "        self.salary += amount\n",
    "        print(f\"{self.name} received a raise of ${amount}. New salary: ${self.salary}\")\n",
    "\n",
    "# Subclass: Manager (inherits from Employee)\n",
    "class Manager(Employee):\n",
    "    def __init__(self, name, salary, department):\n",
    "        super().__init__(name, salary)  # Call the parent class constructor\n",
    "        self.department = department\n",
    "\n",
    "    # Method to give a raise, but with an additional department-specific raise percentage\n",
    "    def give_raise(self, amount, raise_percentage=0):\n",
    "        super().give_raise(amount)  # Call the parent class give_raise method\n",
    "        if raise_percentage > 0:\n",
    "            raise_amount = self.salary * (raise_percentage / 100)\n",
    "            self.salary += raise_amount\n",
    "            print(f\"As a manager of {self.department}, {self.name} also gets a {raise_percentage}% raise. New salary: ${self.salary}\")\n",
    "\n",
    "# Example usage:\n",
    "# Create an Employee object\n",
    "employee = Employee(\"Alice\", 50000)\n",
    "employee.give_raise(2000)\n",
    "\n",
    "# Create a Manager object\n",
    "manager = Manager(\"Bob\", 70000, \"Sales\")\n",
    "manager.give_raise(3000, 5)"
   ]
  },
  {
   "cell_type": "code",
   "execution_count": 2,
   "id": "acabd474-1b73-4319-87ee-4d8409749f42",
   "metadata": {},
   "outputs": [
    {
     "name": "stdout",
     "output_type": "stream",
     "text": [
      "Some content.\n",
      "i am not well\n",
      "plz hepl me\n",
      "how i can help myself.\n",
      "Total lines: 4\n"
     ]
    }
   ],
   "source": [
    "# 45. Write a Python script to read a text file line by line and count the number of lines in the file.\n",
    "file = open('file.txt', 'r')\n",
    "count_line = 0\n",
    "\n",
    "for line in file:\n",
    "    count_line += 1\n",
    "    print(line.strip())  # Print the current line\n",
    "\n",
    "file.close()\n",
    "\n",
    "print(f\"Total lines: {count_line}\")\n"
   ]
  },
  {
   "cell_type": "code",
   "execution_count": 6,
   "id": "c815964d-a068-4b3b-8c36-84dbd9c30581",
   "metadata": {},
   "outputs": [
    {
     "name": "stdout",
     "output_type": "stream",
     "text": [
      "Some content.\n",
      "i am not well\n",
      "plz hepl me \n",
      "how i can help myself.i am good.i am good.\n",
      "i am good.\n"
     ]
    }
   ],
   "source": [
    "# 46. Write a program that appends text to an existing file without overwriting its current content.\n",
    "\n",
    "file=open('file.txt','a')\n",
    "file.write('\\ni am good.')\n",
    "file.close()\n",
    "\n",
    "file=open('file.txt','r')\n",
    "a=file.read()\n",
    "print(a)\n",
    "file.close()\n"
   ]
  },
  {
   "cell_type": "code",
   "execution_count": 9,
   "id": "cbe4f939-1c65-454a-a644-c7cf25076aeb",
   "metadata": {},
   "outputs": [
    {
     "name": "stdout",
     "output_type": "stream",
     "text": [
      "Row 1:\n",
      "  age: 30\n",
      "  gender: Female\n",
      "  review: Average\n",
      "  education: School\n",
      "  purchased: No\n",
      "--------------------\n",
      "Row 2:\n",
      "  age: 68\n",
      "  gender: Female\n",
      "  review: Poor\n",
      "  education: UG\n",
      "  purchased: No\n",
      "--------------------\n",
      "Row 3:\n",
      "  age: 70\n",
      "  gender: Female\n",
      "  review: Good\n",
      "  education: PG\n",
      "  purchased: No\n",
      "--------------------\n",
      "Row 4:\n",
      "  age: 72\n",
      "  gender: Female\n",
      "  review: Good\n",
      "  education: PG\n",
      "  purchased: No\n",
      "--------------------\n",
      "Row 5:\n",
      "  age: 16\n",
      "  gender: Female\n",
      "  review: Average\n",
      "  education: UG\n",
      "  purchased: No\n",
      "--------------------\n",
      "Row 6:\n",
      "  age: 31\n",
      "  gender: Female\n",
      "  review: Average\n",
      "  education: School\n",
      "  purchased: Yes\n",
      "--------------------\n",
      "Row 7:\n",
      "  age: 18\n",
      "  gender: Male\n",
      "  review: Good\n",
      "  education: School\n",
      "  purchased: No\n",
      "--------------------\n",
      "Row 8:\n",
      "  age: 60\n",
      "  gender: Female\n",
      "  review: Poor\n",
      "  education: School\n",
      "  purchased: Yes\n",
      "--------------------\n",
      "Row 9:\n",
      "  age: 65\n",
      "  gender: Female\n",
      "  review: Average\n",
      "  education: UG\n",
      "  purchased: No\n",
      "--------------------\n",
      "Row 10:\n",
      "  age: 74\n",
      "  gender: Male\n",
      "  review: Good\n",
      "  education: UG\n",
      "  purchased: Yes\n",
      "--------------------\n",
      "Row 11:\n",
      "  age: 98\n",
      "  gender: Female\n",
      "  review: Good\n",
      "  education: UG\n",
      "  purchased: Yes\n",
      "--------------------\n",
      "Row 12:\n",
      "  age: 74\n",
      "  gender: Male\n",
      "  review: Good\n",
      "  education: UG\n",
      "  purchased: Yes\n",
      "--------------------\n",
      "Row 13:\n",
      "  age: 51\n",
      "  gender: Male\n",
      "  review: Poor\n",
      "  education: School\n",
      "  purchased: No\n",
      "--------------------\n",
      "Row 14:\n",
      "  age: 57\n",
      "  gender: Female\n",
      "  review: Average\n",
      "  education: School\n",
      "  purchased: No\n",
      "--------------------\n",
      "Row 15:\n",
      "  age: 15\n",
      "  gender: Male\n",
      "  review: Poor\n",
      "  education: PG\n",
      "  purchased: Yes\n",
      "--------------------\n",
      "Row 16:\n",
      "  age: 75\n",
      "  gender: Male\n",
      "  review: Poor\n",
      "  education: UG\n",
      "  purchased: No\n",
      "--------------------\n",
      "Row 17:\n",
      "  age: 59\n",
      "  gender: Male\n",
      "  review: Poor\n",
      "  education: UG\n",
      "  purchased: Yes\n",
      "--------------------\n",
      "Row 18:\n",
      "  age: 22\n",
      "  gender: Female\n",
      "  review: Poor\n",
      "  education: UG\n",
      "  purchased: Yes\n",
      "--------------------\n",
      "Row 19:\n",
      "  age: 19\n",
      "  gender: Male\n",
      "  review: Good\n",
      "  education: School\n",
      "  purchased: No\n",
      "--------------------\n",
      "Row 20:\n",
      "  age: 97\n",
      "  gender: Male\n",
      "  review: Poor\n",
      "  education: PG\n",
      "  purchased: Yes\n",
      "--------------------\n",
      "Row 21:\n",
      "  age: 57\n",
      "  gender: Female\n",
      "  review: Average\n",
      "  education: School\n",
      "  purchased: Yes\n",
      "--------------------\n",
      "Row 22:\n",
      "  age: 32\n",
      "  gender: Male\n",
      "  review: Average\n",
      "  education: PG\n",
      "  purchased: No\n",
      "--------------------\n",
      "Row 23:\n",
      "  age: 18\n",
      "  gender: Female\n",
      "  review: Poor\n",
      "  education: PG\n",
      "  purchased: Yes\n",
      "--------------------\n",
      "Row 24:\n",
      "  age: 96\n",
      "  gender: Female\n",
      "  review: Good\n",
      "  education: School\n",
      "  purchased: No\n",
      "--------------------\n",
      "Row 25:\n",
      "  age: 16\n",
      "  gender: Female\n",
      "  review: Average\n",
      "  education: PG\n",
      "  purchased: Yes\n",
      "--------------------\n",
      "Row 26:\n",
      "  age: 57\n",
      "  gender: Female\n",
      "  review: Good\n",
      "  education: School\n",
      "  purchased: No\n",
      "--------------------\n",
      "Row 27:\n",
      "  age: 53\n",
      "  gender: Female\n",
      "  review: Poor\n",
      "  education: PG\n",
      "  purchased: No\n",
      "--------------------\n",
      "Row 28:\n",
      "  age: 69\n",
      "  gender: Female\n",
      "  review: Poor\n",
      "  education: PG\n",
      "  purchased: No\n",
      "--------------------\n",
      "Row 29:\n",
      "  age: 48\n",
      "  gender: Male\n",
      "  review: Poor\n",
      "  education: School\n",
      "  purchased: No\n",
      "--------------------\n",
      "Row 30:\n",
      "  age: 83\n",
      "  gender: Female\n",
      "  review: Average\n",
      "  education: UG\n",
      "  purchased: Yes\n",
      "--------------------\n",
      "Row 31:\n",
      "  age: 73\n",
      "  gender: Male\n",
      "  review: Average\n",
      "  education: UG\n",
      "  purchased: No\n",
      "--------------------\n",
      "Row 32:\n",
      "  age: 22\n",
      "  gender: Female\n",
      "  review: Poor\n",
      "  education: School\n",
      "  purchased: Yes\n",
      "--------------------\n",
      "Row 33:\n",
      "  age: 92\n",
      "  gender: Male\n",
      "  review: Average\n",
      "  education: UG\n",
      "  purchased: Yes\n",
      "--------------------\n",
      "Row 34:\n",
      "  age: 89\n",
      "  gender: Female\n",
      "  review: Good\n",
      "  education: PG\n",
      "  purchased: Yes\n",
      "--------------------\n",
      "Row 35:\n",
      "  age: 86\n",
      "  gender: Male\n",
      "  review: Average\n",
      "  education: School\n",
      "  purchased: No\n",
      "--------------------\n",
      "Row 36:\n",
      "  age: 74\n",
      "  gender: Male\n",
      "  review: Poor\n",
      "  education: School\n",
      "  purchased: Yes\n",
      "--------------------\n",
      "Row 37:\n",
      "  age: 34\n",
      "  gender: Female\n",
      "  review: Good\n",
      "  education: UG\n",
      "  purchased: Yes\n",
      "--------------------\n",
      "Row 38:\n",
      "  age: 94\n",
      "  gender: Male\n",
      "  review: Average\n",
      "  education: PG\n",
      "  purchased: Yes\n",
      "--------------------\n",
      "Row 39:\n",
      "  age: 45\n",
      "  gender: Female\n",
      "  review: Good\n",
      "  education: School\n",
      "  purchased: No\n",
      "--------------------\n",
      "Row 40:\n",
      "  age: 76\n",
      "  gender: Male\n",
      "  review: Poor\n",
      "  education: PG\n",
      "  purchased: No\n",
      "--------------------\n",
      "Row 41:\n",
      "  age: 39\n",
      "  gender: Male\n",
      "  review: Good\n",
      "  education: School\n",
      "  purchased: No\n",
      "--------------------\n",
      "Row 42:\n",
      "  age: 23\n",
      "  gender: Male\n",
      "  review: Good\n",
      "  education: PG\n",
      "  purchased: Yes\n",
      "--------------------\n",
      "Row 43:\n",
      "  age: 30\n",
      "  gender: Female\n",
      "  review: Good\n",
      "  education: PG\n",
      "  purchased: Yes\n",
      "--------------------\n",
      "Row 44:\n",
      "  age: 27\n",
      "  gender: Male\n",
      "  review: Poor\n",
      "  education: PG\n",
      "  purchased: No\n",
      "--------------------\n",
      "Row 45:\n",
      "  age: 77\n",
      "  gender: Female\n",
      "  review: Average\n",
      "  education: UG\n",
      "  purchased: No\n",
      "--------------------\n",
      "Row 46:\n",
      "  age: 61\n",
      "  gender: Male\n",
      "  review: Poor\n",
      "  education: PG\n",
      "  purchased: Yes\n",
      "--------------------\n",
      "Row 47:\n",
      "  age: 64\n",
      "  gender: Female\n",
      "  review: Poor\n",
      "  education: PG\n",
      "  purchased: No\n",
      "--------------------\n",
      "Row 48:\n",
      "  age: 38\n",
      "  gender: Female\n",
      "  review: Good\n",
      "  education: PG\n",
      "  purchased: Yes\n",
      "--------------------\n",
      "Row 49:\n",
      "  age: 39\n",
      "  gender: Female\n",
      "  review: Good\n",
      "  education: UG\n",
      "  purchased: Yes\n",
      "--------------------\n",
      "Row 50:\n",
      "  age: 25\n",
      "  gender: Female\n",
      "  review: Good\n",
      "  education: UG\n",
      "  purchased: No\n",
      "--------------------\n"
     ]
    }
   ],
   "source": [
    "# 47. Create a script to read a CSV file and print each row in a formatted way.\n",
    "import pandas as pd\n",
    "\n",
    "# Read the CSV file\n",
    "csv_file = pd.read_csv(\"customer.csv\")\n",
    "\n",
    "# Print each row in a formatted way\n",
    "for index, row in csv_file.iterrows():\n",
    "    print(f\"Row {index + 1}:\")\n",
    "    for column_name, value in row.items():\n",
    "        print(f\"  {column_name}: {value}\")\n",
    "    print(\"-\" * 20)  # Separator between rows\n"
   ]
  },
  {
   "cell_type": "code",
   "execution_count": 13,
   "id": "51765200-6e6c-4f05-96f5-c2a341c2b009",
   "metadata": {},
   "outputs": [
    {
     "name": "stdout",
     "output_type": "stream",
     "text": [
      "enter the number: 5\n",
      "enter the number: 0\n"
     ]
    },
    {
     "name": "stdout",
     "output_type": "stream",
     "text": [
      "number can'tdivide by zero... division by zero\n"
     ]
    }
   ],
   "source": [
    "# 48. Write a program that asks for two numbers as input and divides the first by the second. Handle any exceptions that may occur\n",
    "# (e.g.,      ZeroDivisionError, ValueError).\n",
    "try:\n",
    "    number_1=int(input(\"enter the number:\"))\n",
    "    number_2=int(input(\"enter the number:\"))\n",
    "    division=number_1/number_2\n",
    "    print(division)\n",
    "except ZeroDivisionError as e:\n",
    "    print(\"number can'tdivide by zero...\",e)\n",
    "except ValueError as e:\n",
    "    print(\"enter the the valid value..\",e)"
   ]
  },
  {
   "cell_type": "code",
   "execution_count": 15,
   "id": "8c1db97f-7553-4153-8e9e-205ed4a80188",
   "metadata": {},
   "outputs": [
    {
     "name": "stdout",
     "output_type": "stream",
     "text": [
      "enter the file name with extension: ac.txt\n"
     ]
    },
    {
     "name": "stdout",
     "output_type": "stream",
     "text": [
      "[Errno 2] No such file or directory: 'ac.txt'\n"
     ]
    }
   ],
   "source": [
    "# 49. Create a function that reads from a file. Handle the FileNotFoundError exception if the file does not exist.\n",
    "file_name=input('enter the file name with extension:')\n",
    "try:\n",
    "    file=open(file_name,'r')\n",
    "    file.read()\n",
    "except FileNotFoundError as e:\n",
    "    print(e)\n",
    "finally:\n",
    "    file.close()\n",
    "    "
   ]
  },
  {
   "cell_type": "code",
   "execution_count": 24,
   "id": "3abffed1-b9f1-4bbd-b1cb-c68a06b431cc",
   "metadata": {},
   "outputs": [
    {
     "name": "stdout",
     "output_type": "stream",
     "text": [
      "Enter a number:  cbv\n"
     ]
    },
    {
     "name": "stdout",
     "output_type": "stream",
     "text": [
      "Invalid input: could not convert string to float: 'cbv'\n"
     ]
    }
   ],
   "source": [
    "# 50. Write a script that asks the user for a number and calculates its square root.\n",
    "# Handle cases where the input is not a number or is negative.\n",
    "try:\n",
    "    number = float(input(\"Enter a number: \"))\n",
    "    if number < 0:\n",
    "        raise ValueError(\"The number must be non-negative.\")\n",
    "    square_root = number ** 0.5\n",
    "    print(f\"The square root of {number} is {round(square_root, 4)}\")\n",
    "except ValueError as e:\n",
    "    print(f\"Invalid input: {e}\")\n"
   ]
  },
  {
   "cell_type": "code",
   "execution_count": null,
   "id": "0bb90a45-8937-4d8f-b2b0-6ca9a6acad01",
   "metadata": {},
   "outputs": [],
   "source": []
  }
 ],
 "metadata": {
  "kernelspec": {
   "display_name": "Python 3 (ipykernel)",
   "language": "python",
   "name": "python3"
  },
  "language_info": {
   "codemirror_mode": {
    "name": "ipython",
    "version": 3
   },
   "file_extension": ".py",
   "mimetype": "text/x-python",
   "name": "python",
   "nbconvert_exporter": "python",
   "pygments_lexer": "ipython3",
   "version": "3.12.4"
  }
 },
 "nbformat": 4,
 "nbformat_minor": 5
}
